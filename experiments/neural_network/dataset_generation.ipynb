{
 "cells": [
  {
   "cell_type": "markdown",
   "source": [
    "# Graphs generation"
   ],
   "metadata": {
    "collapsed": false
   }
  },
  {
   "cell_type": "code",
   "execution_count": 1,
   "outputs": [],
   "source": [
    "from sampo.generator.base import SimpleSynthetic"
   ],
   "metadata": {
    "collapsed": false
   }
  },
  {
   "cell_type": "code",
   "execution_count": 2,
   "outputs": [],
   "source": [
    "GRAPHS_TOP_BORDER = 100\n",
    "GRAPHS_COUNT = 10"
   ],
   "metadata": {
    "collapsed": false
   }
  },
  {
   "cell_type": "code",
   "execution_count": 7,
   "outputs": [],
   "source": [
    "ss = SimpleSynthetic(111)\n",
    "\n",
    "graphs = [ss.work_graph(top_border=GRAPHS_TOP_BORDER) for _ in range(GRAPHS_COUNT)]"
   ],
   "metadata": {
    "collapsed": false
   }
  },
  {
   "cell_type": "markdown",
   "source": [
    "# Metrics calculation"
   ],
   "metadata": {
    "collapsed": false
   }
  },
  {
   "cell_type": "code",
   "execution_count": 8,
   "outputs": [],
   "source": [
    "from sampo.schemas.graph import WorkGraph\n",
    "\n",
    "\n",
    "def metric_vertex_count(wg: WorkGraph) -> float:\n",
    "    return wg.vertex_count\n",
    "\n",
    "def metric_min_children(wg: WorkGraph) -> float:\n",
    "    return min((len(node.children) for node in wg.nodes if node.children))\n",
    "\n",
    "def metric_max_children(wg: WorkGraph) -> float:\n",
    "    return max((len(node.children) for node in wg.nodes if node.children))\n",
    "\n",
    "def metric_min_parents(wg: WorkGraph) -> float:\n",
    "    return min((len(node.parents) for node in wg.nodes if node.parents))\n",
    "\n",
    "def metric_max_parents(wg: WorkGraph) -> float:\n",
    "    return max((len(node.parents) for node in wg.nodes if node.parents))"
   ],
   "metadata": {
    "collapsed": false
   }
  },
  {
   "cell_type": "code",
   "execution_count": 9,
   "outputs": [
    {
     "data": {
      "text/plain": "[(46, 1, 31, 1, 32),\n (150, 1, 60, 1, 42),\n (129, 1, 42, 1, 48),\n (131, 1, 40, 1, 52),\n (198, 1, 64, 1, 40),\n (129, 1, 42, 1, 58),\n (139, 1, 46, 1, 64),\n (41, 1, 27, 1, 27),\n (141, 1, 42, 1, 59),\n (135, 1, 43, 1, 58)]"
     },
     "execution_count": 9,
     "metadata": {},
     "output_type": "execute_result"
    }
   ],
   "source": [
    "dataset = [(\n",
    "    metric_vertex_count(wg),\n",
    "    metric_min_children(wg),\n",
    "    metric_max_children(wg),\n",
    "    metric_min_parents(wg),\n",
    "    metric_max_parents(wg)\n",
    ") for wg in graphs]\n",
    "\n",
    "dataset"
   ],
   "metadata": {
    "collapsed": false
   }
  },
  {
   "cell_type": "code",
   "execution_count": 14,
   "outputs": [
    {
     "name": "stdout",
     "output_type": "stream",
     "text": [
      "0/10 processed\n"
     ]
    },
    {
     "data": {
      "text/plain": "[[434, 1507, 1691],\n [1399, 5005, 5666],\n [958, 3837, 4346],\n [1224, 4316, 4901],\n [1813, 6860, 7750],\n [1027, 3911, 4385],\n [1201, 4972, 5573],\n [415, 1298, 1496],\n [1277, 4768, 5352],\n [1213, 4364, 4904]]"
     },
     "execution_count": 14,
     "metadata": {},
     "output_type": "execute_result"
    }
   ],
   "source": [
    "from sampo.schemas.time import Time\n",
    "from sampo.scheduler.topological.base import TopologicalScheduler\n",
    "from sampo.scheduler.heft.base import HEFTScheduler, HEFTBetweenScheduler\n",
    "\n",
    "contractors = [ss.contractor(10)]\n",
    "schedulers = [HEFTScheduler(), HEFTBetweenScheduler(), TopologicalScheduler()]\n",
    "\n",
    "def generate_result(i: int, wg: WorkGraph) -> list[float]:\n",
    "    if i % 10 == 0:\n",
    "        print(f'{i}/{len(graphs)} processed')\n",
    "    return [int(scheduler.schedule(wg, contractors).execution_time) for scheduler in schedulers]\n",
    "\n",
    "schedulers_results = [generate_result(i, wg) for i, wg in enumerate(graphs)]\n",
    "schedulers_results"
   ],
   "metadata": {
    "collapsed": false
   }
  },
  {
   "cell_type": "code",
   "execution_count": 15,
   "outputs": [
    {
     "data": {
      "text/plain": "[0, 0, 0, 0, 0, 0, 0, 0, 0, 0]"
     },
     "execution_count": 15,
     "metadata": {},
     "output_type": "execute_result"
    }
   ],
   "source": [
    "def argmin(array) -> int:\n",
    "    res = 0\n",
    "    res_v = int(Time.inf())\n",
    "    for i, v in enumerate(array):\n",
    "        if v < res_v:\n",
    "            res_v = v\n",
    "            res = i\n",
    "    return res\n",
    "\n",
    "schedulers_classification = [argmin(result) for result in schedulers_results]\n",
    "schedulers_classification"
   ],
   "metadata": {
    "collapsed": false
   }
  },
  {
   "cell_type": "code",
   "execution_count": null,
   "outputs": [],
   "source": [],
   "metadata": {
    "collapsed": false
   }
  }
 ],
 "metadata": {
  "kernelspec": {
   "display_name": "Python 3",
   "language": "python",
   "name": "python3"
  },
  "language_info": {
   "codemirror_mode": {
    "name": "ipython",
    "version": 2
   },
   "file_extension": ".py",
   "mimetype": "text/x-python",
   "name": "python",
   "nbconvert_exporter": "python",
   "pygments_lexer": "ipython2",
   "version": "2.7.6"
  }
 },
 "nbformat": 4,
 "nbformat_minor": 0
}
