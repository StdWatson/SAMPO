{
 "cells": [
  {
   "cell_type": "markdown",
   "source": [
    "# Graphs generation"
   ],
   "metadata": {
    "collapsed": false
   }
  },
  {
   "cell_type": "code",
   "execution_count": 1,
   "outputs": [],
   "source": [
    "from sampo.generator.base import SimpleSynthetic"
   ],
   "metadata": {
    "collapsed": false,
    "ExecuteTime": {
     "end_time": "2023-08-30T08:48:15.903034100Z",
     "start_time": "2023-08-30T08:48:15.343411500Z"
    }
   }
  },
  {
   "cell_type": "code",
   "execution_count": 2,
   "outputs": [],
   "source": [
    "GRAPHS_TOP_BORDER = 100\n",
    "GRAPHS_COUNT = 3"
   ],
   "metadata": {
    "collapsed": false,
    "ExecuteTime": {
     "end_time": "2023-08-30T08:48:15.923184700Z",
     "start_time": "2023-08-30T08:48:15.903034100Z"
    }
   }
  },
  {
   "cell_type": "code",
   "execution_count": 3,
   "outputs": [],
   "source": [
    "ss = SimpleSynthetic(256)"
   ],
   "metadata": {
    "collapsed": false,
    "ExecuteTime": {
     "end_time": "2023-08-30T08:48:16.334767300Z",
     "start_time": "2023-08-30T08:48:16.313118Z"
    }
   }
  },
  {
   "cell_type": "markdown",
   "source": [
    "# Metrics calculation"
   ],
   "metadata": {
    "collapsed": false
   }
  },
  {
   "cell_type": "code",
   "execution_count": 4,
   "outputs": [],
   "source": [
    "from sampo.scheduler.selection.neural_net import encode_graph\n",
    "from sampo.schemas.time import Time\n",
    "from sampo.scheduler.topological.base import TopologicalScheduler\n",
    "from sampo.scheduler.heft.base import HEFTScheduler, HEFTBetweenScheduler\n",
    "\n",
    "import pandas as pd\n",
    "\n",
    "contractors = [ss.contractor(10)]\n",
    "schedulers = [HEFTScheduler(), HEFTBetweenScheduler(), TopologicalScheduler()]\n",
    "\n",
    "def argmin(array) -> int:\n",
    "    res = 0\n",
    "    res_v = int(Time.inf())\n",
    "    for i, v in enumerate(array):\n",
    "        if v < res_v:\n",
    "            res_v = v\n",
    "            res = i\n",
    "    return res\n",
    "\n",
    "def generate_graphs(labels_count: int, bin_size: int) -> list[list[int], int]:\n",
    "    bins = [0 for _ in range(labels_count)]\n",
    "    result = []\n",
    "\n",
    "    while any((bin < bin_size for bin in bins)):\n",
    "        wg = ss.work_graph(top_border=GRAPHS_TOP_BORDER)\n",
    "        encoding = encode_graph(wg)\n",
    "        schedulers_results = [int(scheduler.schedule(wg, contractors).execution_time) for scheduler in schedulers]\n",
    "        generated_label = argmin(schedulers_results)\n",
    "\n",
    "        if bins[generated_label] < bin_size:\n",
    "            bins[generated_label] += 1\n",
    "            result.append((encoding, generated_label))\n",
    "            if bins[generated_label] % 10 == 0:\n",
    "                print(f'{generated_label}: {bins[generated_label]}/{bin_size} processed')\n",
    "    return result\n",
    "\n",
    "dataset_raw = generate_graphs(len(schedulers), GRAPHS_COUNT)"
   ],
   "metadata": {
    "collapsed": false,
    "ExecuteTime": {
     "end_time": "2023-08-30T08:49:58.493138400Z",
     "start_time": "2023-08-30T08:48:17.044949400Z"
    }
   }
  },
  {
   "cell_type": "code",
   "execution_count": 5,
   "outputs": [
    {
     "data": {
      "text/plain": "[([171,\n   0.7880104460005154,\n   66,\n   29.34502923976608,\n   66,\n   1,\n   1,\n   4,\n   133,\n   453,\n   933,\n   993,\n   402],\n  0),\n ([122,\n   0.8480191345736486,\n   45,\n   28.811475409836067,\n   45,\n   1,\n   1,\n   3,\n   73,\n   306,\n   613,\n   665,\n   274],\n  0),\n ([122,\n   0.8197457566326756,\n   36,\n   29.950819672131146,\n   36,\n   1,\n   1,\n   3,\n   71,\n   350,\n   751,\n   871,\n   370],\n  1),\n ([37, 1.627292502779792, 26, 41.7027027027027, 26, 1, 1, 2, 51, 101, 101, 66],\n  0),\n ([113,\n   1.011349432435296,\n   37,\n   32.11504424778761,\n   37,\n   1,\n   1,\n   3,\n   61,\n   262,\n   653,\n   713,\n   370],\n  1),\n ([141,\n   1.0761191667103711,\n   49,\n   33.56382978723404,\n   49,\n   1,\n   1,\n   3,\n   99,\n   526,\n   811,\n   1031,\n   226],\n  1),\n ([198,\n   0.7400455033235528,\n   82,\n   27.800505050505052,\n   82,\n   1,\n   1,\n   3,\n   90,\n   412,\n   1148,\n   1184,\n   708],\n  2),\n ([164,\n   0.8698144942333436,\n   68,\n   30.048780487804876,\n   68,\n   1,\n   1,\n   4,\n   137,\n   449,\n   853,\n   905,\n   322],\n  2),\n ([122,\n   0.9006406060261393,\n   39,\n   31.172131147540984,\n   39,\n   1,\n   1,\n   3,\n   79,\n   550,\n   767,\n   1091,\n   178],\n  2)]"
     },
     "execution_count": 5,
     "metadata": {},
     "output_type": "execute_result"
    }
   ],
   "source": [
    "dataset_raw"
   ],
   "metadata": {
    "collapsed": false,
    "ExecuteTime": {
     "end_time": "2023-08-30T08:51:29.427060400Z",
     "start_time": "2023-08-30T08:51:29.416927900Z"
    }
   }
  },
  {
   "cell_type": "code",
   "execution_count": 6,
   "outputs": [
    {
     "name": "stderr",
     "output_type": "stream",
     "text": [
      "C:\\Users\\Иван\\AppData\\Local\\Temp\\ipykernel_1936\\883594820.py:3: VisibleDeprecationWarning: Creating an ndarray from ragged nested sequences (which is a list-or-tuple of lists-or-tuples-or ndarrays with different lengths or shapes) is deprecated. If you meant to do this, you must specify 'dtype=object' when creating the ndarray.\n",
      "  dataset_transposed = np.array(dataset_raw).T\n"
     ]
    },
    {
     "data": {
      "text/plain": "     0         1   2          3   4  5  6  7    8    9    10    11     12  \\\n0  171  0.788010  66  29.345029  66  1  1  4  133  453   933   993  402.0   \n1  122  0.848019  45  28.811475  45  1  1  3   73  306   613   665  274.0   \n2  122  0.819746  36  29.950820  36  1  1  3   71  350   751   871  370.0   \n3   37  1.627293  26  41.702703  26  1  1  2   51  101   101    66    0.0   \n4  113  1.011349  37  32.115044  37  1  1  3   61  262   653   713  370.0   \n5  141  1.076119  49  33.563830  49  1  1  3   99  526   811  1031  226.0   \n6  198  0.740046  82  27.800505  82  1  1  3   90  412  1148  1184  708.0   \n7  164  0.869814  68  30.048780  68  1  1  4  137  449   853   905  322.0   \n8  122  0.900641  39  31.172131  39  1  1  3   79  550   767  1091  178.0   \n\n  label  \n0     0  \n1     0  \n2     1  \n3     0  \n4     1  \n5     1  \n6     2  \n7     2  \n8     2  ",
      "text/html": "<div>\n<style scoped>\n    .dataframe tbody tr th:only-of-type {\n        vertical-align: middle;\n    }\n\n    .dataframe tbody tr th {\n        vertical-align: top;\n    }\n\n    .dataframe thead th {\n        text-align: right;\n    }\n</style>\n<table border=\"1\" class=\"dataframe\">\n  <thead>\n    <tr style=\"text-align: right;\">\n      <th></th>\n      <th>0</th>\n      <th>1</th>\n      <th>2</th>\n      <th>3</th>\n      <th>4</th>\n      <th>5</th>\n      <th>6</th>\n      <th>7</th>\n      <th>8</th>\n      <th>9</th>\n      <th>10</th>\n      <th>11</th>\n      <th>12</th>\n      <th>label</th>\n    </tr>\n  </thead>\n  <tbody>\n    <tr>\n      <th>0</th>\n      <td>171</td>\n      <td>0.788010</td>\n      <td>66</td>\n      <td>29.345029</td>\n      <td>66</td>\n      <td>1</td>\n      <td>1</td>\n      <td>4</td>\n      <td>133</td>\n      <td>453</td>\n      <td>933</td>\n      <td>993</td>\n      <td>402.0</td>\n      <td>0</td>\n    </tr>\n    <tr>\n      <th>1</th>\n      <td>122</td>\n      <td>0.848019</td>\n      <td>45</td>\n      <td>28.811475</td>\n      <td>45</td>\n      <td>1</td>\n      <td>1</td>\n      <td>3</td>\n      <td>73</td>\n      <td>306</td>\n      <td>613</td>\n      <td>665</td>\n      <td>274.0</td>\n      <td>0</td>\n    </tr>\n    <tr>\n      <th>2</th>\n      <td>122</td>\n      <td>0.819746</td>\n      <td>36</td>\n      <td>29.950820</td>\n      <td>36</td>\n      <td>1</td>\n      <td>1</td>\n      <td>3</td>\n      <td>71</td>\n      <td>350</td>\n      <td>751</td>\n      <td>871</td>\n      <td>370.0</td>\n      <td>1</td>\n    </tr>\n    <tr>\n      <th>3</th>\n      <td>37</td>\n      <td>1.627293</td>\n      <td>26</td>\n      <td>41.702703</td>\n      <td>26</td>\n      <td>1</td>\n      <td>1</td>\n      <td>2</td>\n      <td>51</td>\n      <td>101</td>\n      <td>101</td>\n      <td>66</td>\n      <td>0.0</td>\n      <td>0</td>\n    </tr>\n    <tr>\n      <th>4</th>\n      <td>113</td>\n      <td>1.011349</td>\n      <td>37</td>\n      <td>32.115044</td>\n      <td>37</td>\n      <td>1</td>\n      <td>1</td>\n      <td>3</td>\n      <td>61</td>\n      <td>262</td>\n      <td>653</td>\n      <td>713</td>\n      <td>370.0</td>\n      <td>1</td>\n    </tr>\n    <tr>\n      <th>5</th>\n      <td>141</td>\n      <td>1.076119</td>\n      <td>49</td>\n      <td>33.563830</td>\n      <td>49</td>\n      <td>1</td>\n      <td>1</td>\n      <td>3</td>\n      <td>99</td>\n      <td>526</td>\n      <td>811</td>\n      <td>1031</td>\n      <td>226.0</td>\n      <td>1</td>\n    </tr>\n    <tr>\n      <th>6</th>\n      <td>198</td>\n      <td>0.740046</td>\n      <td>82</td>\n      <td>27.800505</td>\n      <td>82</td>\n      <td>1</td>\n      <td>1</td>\n      <td>3</td>\n      <td>90</td>\n      <td>412</td>\n      <td>1148</td>\n      <td>1184</td>\n      <td>708.0</td>\n      <td>2</td>\n    </tr>\n    <tr>\n      <th>7</th>\n      <td>164</td>\n      <td>0.869814</td>\n      <td>68</td>\n      <td>30.048780</td>\n      <td>68</td>\n      <td>1</td>\n      <td>1</td>\n      <td>4</td>\n      <td>137</td>\n      <td>449</td>\n      <td>853</td>\n      <td>905</td>\n      <td>322.0</td>\n      <td>2</td>\n    </tr>\n    <tr>\n      <th>8</th>\n      <td>122</td>\n      <td>0.900641</td>\n      <td>39</td>\n      <td>31.172131</td>\n      <td>39</td>\n      <td>1</td>\n      <td>1</td>\n      <td>3</td>\n      <td>79</td>\n      <td>550</td>\n      <td>767</td>\n      <td>1091</td>\n      <td>178.0</td>\n      <td>2</td>\n    </tr>\n  </tbody>\n</table>\n</div>"
     },
     "execution_count": 6,
     "metadata": {},
     "output_type": "execute_result"
    }
   ],
   "source": [
    "import numpy as np\n",
    "\n",
    "dataset_transposed = np.array(dataset_raw).T\n",
    "df = pd.DataFrame.from_records(dataset_transposed[0])\n",
    "df['label'] = dataset_transposed[1]\n",
    "df.fillna(value=0, inplace=True)\n",
    "df"
   ],
   "metadata": {
    "collapsed": false,
    "ExecuteTime": {
     "end_time": "2023-08-30T08:51:30.876851700Z",
     "start_time": "2023-08-30T08:51:30.807027800Z"
    }
   }
  },
  {
   "cell_type": "code",
   "execution_count": 7,
   "outputs": [
    {
     "data": {
      "text/plain": "3"
     },
     "execution_count": 7,
     "metadata": {},
     "output_type": "execute_result"
    }
   ],
   "source": [
    "# calculate the minimum uniform sampling size\n",
    "dataset_size = min(df.groupby('label', group_keys=False).apply(lambda x: len(x)))\n",
    "dataset_size"
   ],
   "metadata": {
    "collapsed": false,
    "ExecuteTime": {
     "end_time": "2023-08-30T08:51:34.656792900Z",
     "start_time": "2023-08-30T08:51:34.637244900Z"
    }
   }
  },
  {
   "cell_type": "code",
   "execution_count": 8,
   "outputs": [
    {
     "data": {
      "text/plain": "     0         1   2          3   4  5  6  7    8    9    10    11     12  \\\n0  171  0.788010  66  29.345029  66  1  1  4  133  453   933   993  402.0   \n3   37  1.627293  26  41.702703  26  1  1  2   51  101   101    66    0.0   \n1  122  0.848019  45  28.811475  45  1  1  3   73  306   613   665  274.0   \n4  113  1.011349  37  32.115044  37  1  1  3   61  262   653   713  370.0   \n2  122  0.819746  36  29.950820  36  1  1  3   71  350   751   871  370.0   \n5  141  1.076119  49  33.563830  49  1  1  3   99  526   811  1031  226.0   \n7  164  0.869814  68  30.048780  68  1  1  4  137  449   853   905  322.0   \n8  122  0.900641  39  31.172131  39  1  1  3   79  550   767  1091  178.0   \n6  198  0.740046  82  27.800505  82  1  1  3   90  412  1148  1184  708.0   \n\n  label  \n0     0  \n3     0  \n1     0  \n4     1  \n2     1  \n5     1  \n7     2  \n8     2  \n6     2  ",
      "text/html": "<div>\n<style scoped>\n    .dataframe tbody tr th:only-of-type {\n        vertical-align: middle;\n    }\n\n    .dataframe tbody tr th {\n        vertical-align: top;\n    }\n\n    .dataframe thead th {\n        text-align: right;\n    }\n</style>\n<table border=\"1\" class=\"dataframe\">\n  <thead>\n    <tr style=\"text-align: right;\">\n      <th></th>\n      <th>0</th>\n      <th>1</th>\n      <th>2</th>\n      <th>3</th>\n      <th>4</th>\n      <th>5</th>\n      <th>6</th>\n      <th>7</th>\n      <th>8</th>\n      <th>9</th>\n      <th>10</th>\n      <th>11</th>\n      <th>12</th>\n      <th>label</th>\n    </tr>\n  </thead>\n  <tbody>\n    <tr>\n      <th>0</th>\n      <td>171</td>\n      <td>0.788010</td>\n      <td>66</td>\n      <td>29.345029</td>\n      <td>66</td>\n      <td>1</td>\n      <td>1</td>\n      <td>4</td>\n      <td>133</td>\n      <td>453</td>\n      <td>933</td>\n      <td>993</td>\n      <td>402.0</td>\n      <td>0</td>\n    </tr>\n    <tr>\n      <th>3</th>\n      <td>37</td>\n      <td>1.627293</td>\n      <td>26</td>\n      <td>41.702703</td>\n      <td>26</td>\n      <td>1</td>\n      <td>1</td>\n      <td>2</td>\n      <td>51</td>\n      <td>101</td>\n      <td>101</td>\n      <td>66</td>\n      <td>0.0</td>\n      <td>0</td>\n    </tr>\n    <tr>\n      <th>1</th>\n      <td>122</td>\n      <td>0.848019</td>\n      <td>45</td>\n      <td>28.811475</td>\n      <td>45</td>\n      <td>1</td>\n      <td>1</td>\n      <td>3</td>\n      <td>73</td>\n      <td>306</td>\n      <td>613</td>\n      <td>665</td>\n      <td>274.0</td>\n      <td>0</td>\n    </tr>\n    <tr>\n      <th>4</th>\n      <td>113</td>\n      <td>1.011349</td>\n      <td>37</td>\n      <td>32.115044</td>\n      <td>37</td>\n      <td>1</td>\n      <td>1</td>\n      <td>3</td>\n      <td>61</td>\n      <td>262</td>\n      <td>653</td>\n      <td>713</td>\n      <td>370.0</td>\n      <td>1</td>\n    </tr>\n    <tr>\n      <th>2</th>\n      <td>122</td>\n      <td>0.819746</td>\n      <td>36</td>\n      <td>29.950820</td>\n      <td>36</td>\n      <td>1</td>\n      <td>1</td>\n      <td>3</td>\n      <td>71</td>\n      <td>350</td>\n      <td>751</td>\n      <td>871</td>\n      <td>370.0</td>\n      <td>1</td>\n    </tr>\n    <tr>\n      <th>5</th>\n      <td>141</td>\n      <td>1.076119</td>\n      <td>49</td>\n      <td>33.563830</td>\n      <td>49</td>\n      <td>1</td>\n      <td>1</td>\n      <td>3</td>\n      <td>99</td>\n      <td>526</td>\n      <td>811</td>\n      <td>1031</td>\n      <td>226.0</td>\n      <td>1</td>\n    </tr>\n    <tr>\n      <th>7</th>\n      <td>164</td>\n      <td>0.869814</td>\n      <td>68</td>\n      <td>30.048780</td>\n      <td>68</td>\n      <td>1</td>\n      <td>1</td>\n      <td>4</td>\n      <td>137</td>\n      <td>449</td>\n      <td>853</td>\n      <td>905</td>\n      <td>322.0</td>\n      <td>2</td>\n    </tr>\n    <tr>\n      <th>8</th>\n      <td>122</td>\n      <td>0.900641</td>\n      <td>39</td>\n      <td>31.172131</td>\n      <td>39</td>\n      <td>1</td>\n      <td>1</td>\n      <td>3</td>\n      <td>79</td>\n      <td>550</td>\n      <td>767</td>\n      <td>1091</td>\n      <td>178.0</td>\n      <td>2</td>\n    </tr>\n    <tr>\n      <th>6</th>\n      <td>198</td>\n      <td>0.740046</td>\n      <td>82</td>\n      <td>27.800505</td>\n      <td>82</td>\n      <td>1</td>\n      <td>1</td>\n      <td>3</td>\n      <td>90</td>\n      <td>412</td>\n      <td>1148</td>\n      <td>1184</td>\n      <td>708.0</td>\n      <td>2</td>\n    </tr>\n  </tbody>\n</table>\n</div>"
     },
     "execution_count": 8,
     "metadata": {},
     "output_type": "execute_result"
    }
   ],
   "source": [
    "df = df.groupby('label', group_keys=False).apply(lambda x: x.sample(dataset_size))\n",
    "df"
   ],
   "metadata": {
    "collapsed": false,
    "ExecuteTime": {
     "end_time": "2023-08-30T08:51:35.416957600Z",
     "start_time": "2023-08-30T08:51:35.386887Z"
    }
   }
  },
  {
   "cell_type": "code",
   "execution_count": 13,
   "outputs": [],
   "source": [
    "df.to_csv('dataset.csv')"
   ],
   "metadata": {
    "collapsed": false,
    "ExecuteTime": {
     "end_time": "2023-08-28T09:48:58.783106500Z",
     "start_time": "2023-08-28T09:48:58.752907100Z"
    }
   }
  },
  {
   "cell_type": "code",
   "execution_count": null,
   "outputs": [],
   "source": [],
   "metadata": {
    "collapsed": false
   }
  }
 ],
 "metadata": {
  "kernelspec": {
   "display_name": "Python 3",
   "language": "python",
   "name": "python3"
  },
  "language_info": {
   "codemirror_mode": {
    "name": "ipython",
    "version": 2
   },
   "file_extension": ".py",
   "mimetype": "text/x-python",
   "name": "python",
   "nbconvert_exporter": "python",
   "pygments_lexer": "ipython2",
   "version": "2.7.6"
  }
 },
 "nbformat": 4,
 "nbformat_minor": 0
}
