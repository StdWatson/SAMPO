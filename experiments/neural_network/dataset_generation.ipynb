{
 "cells": [
  {
   "cell_type": "markdown",
   "source": [
    "# Graphs generation"
   ],
   "metadata": {
    "collapsed": false
   }
  },
  {
   "cell_type": "code",
   "execution_count": 1,
   "outputs": [],
   "source": [
    "from sampo.generator.base import SimpleSynthetic"
   ],
   "metadata": {
    "collapsed": false
   }
  },
  {
   "cell_type": "code",
   "execution_count": 38,
   "outputs": [],
   "source": [
    "GRAPHS_TOP_BORDER = 200\n",
    "GRAPHS_COUNT = 50"
   ],
   "metadata": {
    "collapsed": false
   }
  },
  {
   "cell_type": "code",
   "execution_count": 39,
   "outputs": [],
   "source": [
    "ss = SimpleSynthetic(256)"
   ],
   "metadata": {
    "collapsed": false
   }
  },
  {
   "cell_type": "markdown",
   "source": [
    "# Metrics calculation"
   ],
   "metadata": {
    "collapsed": false
   }
  },
  {
   "cell_type": "code",
   "execution_count": 40,
   "outputs": [],
   "source": [
    "from sampo.schemas.graph import WorkGraph\n",
    "\n",
    "\n",
    "def metric_vertex_count(wg: WorkGraph) -> float:\n",
    "    return wg.vertex_count\n",
    "\n",
    "def metric_min_children(wg: WorkGraph) -> float:\n",
    "    return min((len(node.children) for node in wg.nodes if node.children))\n",
    "\n",
    "def metric_max_children(wg: WorkGraph) -> float:\n",
    "    return max((len(node.children) for node in wg.nodes if node.children))\n",
    "\n",
    "def metric_min_parents(wg: WorkGraph) -> float:\n",
    "    return min((len(node.parents) for node in wg.nodes if node.parents))\n",
    "\n",
    "def metric_max_parents(wg: WorkGraph) -> float:\n",
    "    return max((len(node.parents) for node in wg.nodes if node.parents))"
   ],
   "metadata": {
    "collapsed": false
   }
  },
  {
   "cell_type": "code",
   "execution_count": 43,
   "outputs": [
    {
     "name": "stdout",
     "output_type": "stream",
     "text": [
      "1: 10/150 processed\n",
      "1: 20/150 processed\n",
      "1: 30/150 processed\n",
      "1: 40/150 processed\n",
      "1: 50/150 processed\n",
      "0: 10/150 processed\n",
      "0: 20/150 processed\n",
      "2: 10/150 processed\n",
      "0: 30/150 processed\n",
      "0: 40/150 processed\n",
      "0: 50/150 processed\n",
      "2: 20/150 processed\n",
      "2: 30/150 processed\n",
      "2: 40/150 processed\n",
      "2: 50/150 processed\n"
     ]
    },
    {
     "data": {
      "text/plain": "[([310, 1, 54, 1, 55], 1),\n ([248, 1, 70, 1, 48], 1),\n ([308, 1, 78, 1, 45], 1),\n ([268, 1, 44, 1, 60], 1),\n ([231, 1, 74, 1, 40], 1),\n ([255, 1, 45, 1, 55], 1),\n ([252, 1, 46, 1, 55], 1),\n ([246, 1, 70, 1, 53], 1),\n ([245, 1, 70, 1, 50], 0),\n ([297, 1, 80, 1, 55], 1),\n ([243, 1, 45, 1, 61], 1),\n ([258, 1, 64, 1, 50], 1),\n ([257, 1, 78, 1, 60], 0),\n ([249, 1, 44, 1, 58], 0),\n ([311, 1, 78, 1, 52], 1),\n ([233, 1, 76, 1, 57], 1),\n ([282, 1, 86, 1, 46], 1),\n ([247, 1, 41, 1, 57], 1),\n ([287, 1, 84, 1, 59], 1),\n ([230, 1, 40, 1, 50], 1),\n ([209, 1, 43, 1, 56], 1),\n ([300, 1, 98, 1, 61], 1),\n ([245, 1, 45, 1, 57], 1),\n ([273, 1, 56, 1, 52], 1),\n ([244, 1, 40, 1, 52], 1),\n ([257, 1, 70, 1, 54], 1),\n ([299, 1, 66, 1, 60], 1),\n ([247, 1, 76, 1, 48], 1),\n ([240, 1, 74, 1, 50], 1),\n ([251, 1, 62, 1, 54], 1),\n ([252, 1, 56, 1, 50], 1),\n ([325, 1, 82, 1, 52], 1),\n ([321, 1, 64, 1, 55], 1),\n ([257, 1, 84, 1, 55], 0),\n ([247, 1, 45, 1, 54], 0),\n ([268, 1, 64, 1, 54], 1),\n ([243, 1, 80, 1, 48], 2),\n ([310, 1, 84, 1, 56], 1),\n ([238, 1, 68, 1, 56], 1),\n ([253, 1, 78, 1, 51], 1),\n ([256, 1, 76, 1, 54], 1),\n ([269, 1, 43, 1, 54], 1),\n ([240, 1, 68, 1, 54], 1),\n ([222, 1, 36, 1, 49], 1),\n ([248, 1, 45, 1, 56], 1),\n ([302, 1, 76, 1, 54], 1),\n ([258, 1, 41, 1, 58], 1),\n ([229, 1, 74, 1, 55], 0),\n ([245, 1, 44, 1, 51], 1),\n ([256, 1, 43, 1, 56], 1),\n ([322, 1, 70, 1, 54], 2),\n ([286, 1, 82, 1, 45], 1),\n ([256, 1, 78, 1, 58], 1),\n ([217, 1, 50, 1, 62], 1),\n ([297, 1, 78, 1, 58], 2),\n ([265, 1, 76, 1, 47], 1),\n ([235, 1, 42, 1, 59], 1),\n ([258, 1, 70, 1, 48], 1),\n ([273, 1, 41, 1, 53], 1),\n ([251, 1, 49, 1, 66], 0),\n ([227, 1, 43, 1, 50], 0),\n ([238, 1, 72, 1, 46], 2),\n ([219, 1, 76, 1, 45], 0),\n ([227, 1, 82, 1, 51], 0),\n ([248, 1, 68, 1, 53], 0),\n ([283, 1, 72, 1, 53], 0),\n ([243, 1, 76, 1, 48], 0),\n ([212, 1, 76, 1, 44], 2),\n ([239, 1, 80, 1, 49], 0),\n ([212, 1, 80, 1, 57], 0),\n ([212, 1, 76, 1, 59], 2),\n ([248, 1, 43, 1, 49], 0),\n ([208, 1, 45, 1, 60], 0),\n ([244, 1, 86, 1, 51], 0),\n ([314, 1, 88, 1, 54], 2),\n ([249, 1, 70, 1, 53], 0),\n ([251, 1, 44, 1, 52], 0),\n ([239, 1, 41, 1, 55], 0),\n ([287, 1, 62, 1, 53], 0),\n ([213, 1, 48, 1, 62], 0),\n ([235, 1, 76, 1, 48], 2),\n ([258, 1, 92, 1, 56], 2),\n ([206, 1, 90, 1, 57], 0),\n ([231, 1, 78, 1, 51], 2),\n ([252, 1, 76, 1, 50], 0),\n ([234, 1, 76, 1, 51], 0),\n ([227, 1, 56, 1, 47], 2),\n ([226, 1, 74, 1, 52], 0),\n ([291, 1, 62, 1, 51], 0),\n ([313, 1, 90, 1, 55], 2),\n ([236, 1, 42, 1, 53], 0),\n ([217, 1, 39, 1, 45], 0),\n ([254, 1, 41, 1, 53], 0),\n ([222, 1, 80, 1, 46], 0),\n ([246, 1, 46, 1, 60], 0),\n ([231, 1, 66, 1, 42], 0),\n ([266, 1, 45, 1, 59], 0),\n ([248, 1, 47, 1, 52], 0),\n ([235, 1, 78, 1, 51], 0),\n ([238, 1, 80, 1, 52], 0),\n ([222, 1, 80, 1, 51], 0),\n ([233, 1, 80, 1, 47], 0),\n ([233, 1, 43, 1, 52], 0),\n ([252, 1, 80, 1, 54], 0),\n ([214, 1, 49, 1, 67], 0),\n ([258, 1, 88, 1, 54], 2),\n ([224, 1, 47, 1, 63], 2),\n ([255, 1, 48, 1, 48], 0),\n ([257, 1, 82, 1, 60], 0),\n ([236, 1, 36, 1, 49], 0),\n ([258, 1, 88, 1, 59], 0),\n ([230, 1, 42, 1, 47], 0),\n ([255, 1, 62, 1, 51], 0),\n ([223, 1, 60, 1, 48], 0),\n ([252, 1, 66, 1, 51], 2),\n ([240, 1, 56, 1, 52], 2),\n ([216, 1, 84, 1, 61], 2),\n ([210, 1, 80, 1, 58], 2),\n ([209, 1, 45, 1, 58], 2),\n ([286, 1, 70, 1, 54], 2),\n ([227, 1, 88, 1, 61], 2),\n ([298, 1, 80, 1, 58], 2),\n ([226, 1, 80, 1, 47], 2),\n ([270, 1, 84, 1, 55], 2),\n ([260, 1, 84, 1, 58], 2),\n ([208, 1, 76, 1, 61], 2),\n ([262, 1, 88, 1, 57], 2),\n ([245, 1, 80, 1, 49], 2),\n ([208, 1, 80, 1, 58], 2),\n ([310, 1, 82, 1, 56], 2),\n ([234, 1, 74, 1, 41], 2),\n ([249, 1, 76, 1, 48], 2),\n ([262, 1, 88, 1, 55], 2),\n ([212, 1, 76, 1, 57], 2),\n ([272, 1, 92, 1, 54], 2),\n ([329, 1, 76, 1, 55], 2),\n ([266, 1, 88, 1, 62], 2),\n ([264, 1, 72, 1, 53], 2),\n ([246, 1, 80, 1, 55], 2),\n ([248, 1, 86, 1, 53], 2),\n ([259, 1, 74, 1, 61], 2),\n ([246, 1, 74, 1, 54], 2),\n ([276, 1, 88, 1, 62], 2),\n ([257, 1, 80, 1, 58], 2),\n ([247, 1, 68, 1, 56], 2),\n ([300, 1, 72, 1, 51], 2),\n ([254, 1, 60, 1, 60], 2),\n ([241, 1, 44, 1, 49], 2),\n ([284, 1, 78, 1, 58], 2),\n ([224, 1, 64, 1, 44], 2)]"
     },
     "execution_count": 43,
     "metadata": {},
     "output_type": "execute_result"
    }
   ],
   "source": [
    "from sampo.schemas.time import Time\n",
    "from sampo.scheduler.topological.base import TopologicalScheduler\n",
    "from sampo.scheduler.heft.base import HEFTScheduler, HEFTBetweenScheduler\n",
    "\n",
    "import pandas as pd\n",
    "\n",
    "contractors = [ss.contractor(10)]\n",
    "schedulers = [HEFTScheduler(), HEFTBetweenScheduler(), TopologicalScheduler()]\n",
    "\n",
    "def argmin(array) -> int:\n",
    "    res = 0\n",
    "    res_v = int(Time.inf())\n",
    "    for i, v in enumerate(array):\n",
    "        if v < res_v:\n",
    "            res_v = v\n",
    "            res = i\n",
    "    return res\n",
    "\n",
    "def generate_graphs(labels_count: int, bin_size: int) -> list[list[int], int]:\n",
    "    bins = [0 for _ in range(labels_count)]\n",
    "    result = []\n",
    "\n",
    "    while any((bin < bin_size for bin in bins)):\n",
    "        wg = ss.work_graph(top_border=GRAPHS_TOP_BORDER)\n",
    "        encoding = [\n",
    "            metric_vertex_count(wg),\n",
    "            metric_min_children(wg),\n",
    "            metric_max_children(wg),\n",
    "            metric_min_parents(wg),\n",
    "            metric_max_parents(wg)\n",
    "        ]\n",
    "        schedulers_results = [int(scheduler.schedule(wg, contractors).execution_time) for scheduler in schedulers]\n",
    "        generated_label = argmin(schedulers_results)\n",
    "\n",
    "        if bins[generated_label] < bin_size:\n",
    "            bins[generated_label] += 1\n",
    "            result.append((encoding, generated_label))\n",
    "            if bins[generated_label] % 10 == 0:\n",
    "                print(f'{generated_label}: {bins[generated_label]}/{bin_size} processed')\n",
    "    return result\n",
    "\n",
    "dataset_raw = generate_graphs(len(schedulers), GRAPHS_COUNT)\n",
    "dataset_raw"
   ],
   "metadata": {
    "collapsed": false
   }
  },
  {
   "cell_type": "code",
   "execution_count": 53,
   "outputs": [
    {
     "name": "stderr",
     "output_type": "stream",
     "text": [
      "C:\\Users\\stasb\\AppData\\Local\\Temp\\ipykernel_3828\\2991907992.py:3: VisibleDeprecationWarning: Creating an ndarray from ragged nested sequences (which is a list-or-tuple of lists-or-tuples-or ndarrays with different lengths or shapes) is deprecated. If you meant to do this, you must specify 'dtype=object' when creating the ndarray.\n",
      "  dataset_transposed = np.array(dataset_raw).T\n"
     ]
    },
    {
     "data": {
      "text/plain": "       0  1   2  3   4 label\n0    310  1  54  1  55     1\n1    248  1  70  1  48     1\n2    308  1  78  1  45     1\n3    268  1  44  1  60     1\n4    231  1  74  1  40     1\n..   ... ..  .. ..  ..   ...\n145  300  1  72  1  51     2\n146  254  1  60  1  60     2\n147  241  1  44  1  49     2\n148  284  1  78  1  58     2\n149  224  1  64  1  44     2\n\n[150 rows x 6 columns]",
      "text/html": "<div>\n<style scoped>\n    .dataframe tbody tr th:only-of-type {\n        vertical-align: middle;\n    }\n\n    .dataframe tbody tr th {\n        vertical-align: top;\n    }\n\n    .dataframe thead th {\n        text-align: right;\n    }\n</style>\n<table border=\"1\" class=\"dataframe\">\n  <thead>\n    <tr style=\"text-align: right;\">\n      <th></th>\n      <th>0</th>\n      <th>1</th>\n      <th>2</th>\n      <th>3</th>\n      <th>4</th>\n      <th>label</th>\n    </tr>\n  </thead>\n  <tbody>\n    <tr>\n      <th>0</th>\n      <td>310</td>\n      <td>1</td>\n      <td>54</td>\n      <td>1</td>\n      <td>55</td>\n      <td>1</td>\n    </tr>\n    <tr>\n      <th>1</th>\n      <td>248</td>\n      <td>1</td>\n      <td>70</td>\n      <td>1</td>\n      <td>48</td>\n      <td>1</td>\n    </tr>\n    <tr>\n      <th>2</th>\n      <td>308</td>\n      <td>1</td>\n      <td>78</td>\n      <td>1</td>\n      <td>45</td>\n      <td>1</td>\n    </tr>\n    <tr>\n      <th>3</th>\n      <td>268</td>\n      <td>1</td>\n      <td>44</td>\n      <td>1</td>\n      <td>60</td>\n      <td>1</td>\n    </tr>\n    <tr>\n      <th>4</th>\n      <td>231</td>\n      <td>1</td>\n      <td>74</td>\n      <td>1</td>\n      <td>40</td>\n      <td>1</td>\n    </tr>\n    <tr>\n      <th>...</th>\n      <td>...</td>\n      <td>...</td>\n      <td>...</td>\n      <td>...</td>\n      <td>...</td>\n      <td>...</td>\n    </tr>\n    <tr>\n      <th>145</th>\n      <td>300</td>\n      <td>1</td>\n      <td>72</td>\n      <td>1</td>\n      <td>51</td>\n      <td>2</td>\n    </tr>\n    <tr>\n      <th>146</th>\n      <td>254</td>\n      <td>1</td>\n      <td>60</td>\n      <td>1</td>\n      <td>60</td>\n      <td>2</td>\n    </tr>\n    <tr>\n      <th>147</th>\n      <td>241</td>\n      <td>1</td>\n      <td>44</td>\n      <td>1</td>\n      <td>49</td>\n      <td>2</td>\n    </tr>\n    <tr>\n      <th>148</th>\n      <td>284</td>\n      <td>1</td>\n      <td>78</td>\n      <td>1</td>\n      <td>58</td>\n      <td>2</td>\n    </tr>\n    <tr>\n      <th>149</th>\n      <td>224</td>\n      <td>1</td>\n      <td>64</td>\n      <td>1</td>\n      <td>44</td>\n      <td>2</td>\n    </tr>\n  </tbody>\n</table>\n<p>150 rows × 6 columns</p>\n</div>"
     },
     "execution_count": 53,
     "metadata": {},
     "output_type": "execute_result"
    }
   ],
   "source": [
    "import numpy as np\n",
    "\n",
    "dataset_transposed = np.array(dataset_raw).T\n",
    "df = pd.DataFrame.from_records(dataset_transposed[0])\n",
    "df['label'] = dataset_transposed[1]\n",
    "df"
   ],
   "metadata": {
    "collapsed": false
   }
  },
  {
   "cell_type": "code",
   "execution_count": 54,
   "outputs": [
    {
     "data": {
      "text/plain": "50"
     },
     "execution_count": 54,
     "metadata": {},
     "output_type": "execute_result"
    }
   ],
   "source": [
    "# calculate the minimum uniform sampling size\n",
    "dataset_size = min(df.groupby('label', group_keys=False).apply(lambda x: len(x)))\n",
    "dataset_size"
   ],
   "metadata": {
    "collapsed": false
   }
  },
  {
   "cell_type": "code",
   "execution_count": 55,
   "outputs": [
    {
     "data": {
      "text/plain": "       0  1   2  3   4 label\n65   283  1  72  1  53     0\n96   266  1  45  1  59     0\n92   254  1  41  1  53     0\n69   212  1  80  1  57     0\n99   238  1  80  1  52     0\n..   ... ..  .. ..  ..   ...\n74   314  1  88  1  54     2\n115  240  1  56  1  52     2\n126  262  1  88  1  57     2\n54   297  1  78  1  58     2\n128  208  1  80  1  58     2\n\n[150 rows x 6 columns]",
      "text/html": "<div>\n<style scoped>\n    .dataframe tbody tr th:only-of-type {\n        vertical-align: middle;\n    }\n\n    .dataframe tbody tr th {\n        vertical-align: top;\n    }\n\n    .dataframe thead th {\n        text-align: right;\n    }\n</style>\n<table border=\"1\" class=\"dataframe\">\n  <thead>\n    <tr style=\"text-align: right;\">\n      <th></th>\n      <th>0</th>\n      <th>1</th>\n      <th>2</th>\n      <th>3</th>\n      <th>4</th>\n      <th>label</th>\n    </tr>\n  </thead>\n  <tbody>\n    <tr>\n      <th>65</th>\n      <td>283</td>\n      <td>1</td>\n      <td>72</td>\n      <td>1</td>\n      <td>53</td>\n      <td>0</td>\n    </tr>\n    <tr>\n      <th>96</th>\n      <td>266</td>\n      <td>1</td>\n      <td>45</td>\n      <td>1</td>\n      <td>59</td>\n      <td>0</td>\n    </tr>\n    <tr>\n      <th>92</th>\n      <td>254</td>\n      <td>1</td>\n      <td>41</td>\n      <td>1</td>\n      <td>53</td>\n      <td>0</td>\n    </tr>\n    <tr>\n      <th>69</th>\n      <td>212</td>\n      <td>1</td>\n      <td>80</td>\n      <td>1</td>\n      <td>57</td>\n      <td>0</td>\n    </tr>\n    <tr>\n      <th>99</th>\n      <td>238</td>\n      <td>1</td>\n      <td>80</td>\n      <td>1</td>\n      <td>52</td>\n      <td>0</td>\n    </tr>\n    <tr>\n      <th>...</th>\n      <td>...</td>\n      <td>...</td>\n      <td>...</td>\n      <td>...</td>\n      <td>...</td>\n      <td>...</td>\n    </tr>\n    <tr>\n      <th>74</th>\n      <td>314</td>\n      <td>1</td>\n      <td>88</td>\n      <td>1</td>\n      <td>54</td>\n      <td>2</td>\n    </tr>\n    <tr>\n      <th>115</th>\n      <td>240</td>\n      <td>1</td>\n      <td>56</td>\n      <td>1</td>\n      <td>52</td>\n      <td>2</td>\n    </tr>\n    <tr>\n      <th>126</th>\n      <td>262</td>\n      <td>1</td>\n      <td>88</td>\n      <td>1</td>\n      <td>57</td>\n      <td>2</td>\n    </tr>\n    <tr>\n      <th>54</th>\n      <td>297</td>\n      <td>1</td>\n      <td>78</td>\n      <td>1</td>\n      <td>58</td>\n      <td>2</td>\n    </tr>\n    <tr>\n      <th>128</th>\n      <td>208</td>\n      <td>1</td>\n      <td>80</td>\n      <td>1</td>\n      <td>58</td>\n      <td>2</td>\n    </tr>\n  </tbody>\n</table>\n<p>150 rows × 6 columns</p>\n</div>"
     },
     "execution_count": 55,
     "metadata": {},
     "output_type": "execute_result"
    }
   ],
   "source": [
    "df = df.groupby('label', group_keys=False).apply(lambda x: x.sample(dataset_size))\n",
    "df"
   ],
   "metadata": {
    "collapsed": false
   }
  },
  {
   "cell_type": "code",
   "execution_count": 56,
   "outputs": [],
   "source": [
    "df.to_csv('dataset.csv')"
   ],
   "metadata": {
    "collapsed": false
   }
  },
  {
   "cell_type": "code",
   "execution_count": null,
   "outputs": [],
   "source": [],
   "metadata": {
    "collapsed": false
   }
  }
 ],
 "metadata": {
  "kernelspec": {
   "display_name": "Python 3",
   "language": "python",
   "name": "python3"
  },
  "language_info": {
   "codemirror_mode": {
    "name": "ipython",
    "version": 2
   },
   "file_extension": ".py",
   "mimetype": "text/x-python",
   "name": "python",
   "nbconvert_exporter": "python",
   "pygments_lexer": "ipython2",
   "version": "2.7.6"
  }
 },
 "nbformat": 4,
 "nbformat_minor": 0
}
