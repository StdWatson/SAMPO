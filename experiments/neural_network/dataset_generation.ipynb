{
 "cells": [
  {
   "cell_type": "markdown",
   "source": [
    "# Graphs generation"
   ],
   "metadata": {
    "collapsed": false
   }
  },
  {
   "cell_type": "code",
   "execution_count": 1,
   "outputs": [],
   "source": [
    "from sampo.generator.base import SimpleSynthetic"
   ],
   "metadata": {
    "collapsed": false
   }
  },
  {
   "cell_type": "code",
   "execution_count": 2,
   "outputs": [],
   "source": [
    "GRAPHS_TOP_BORDER = 100\n",
    "GRAPHS_COUNT = 10"
   ],
   "metadata": {
    "collapsed": false
   }
  },
  {
   "cell_type": "code",
   "execution_count": 3,
   "outputs": [],
   "source": [
    "ss = SimpleSynthetic(111)\n",
    "\n",
    "graphs = [ss.work_graph(top_border=GRAPHS_TOP_BORDER) for _ in range(GRAPHS_COUNT)]"
   ],
   "metadata": {
    "collapsed": false
   }
  },
  {
   "cell_type": "markdown",
   "source": [
    "# Metrics calculation"
   ],
   "metadata": {
    "collapsed": false
   }
  },
  {
   "cell_type": "code",
   "execution_count": 4,
   "outputs": [],
   "source": [
    "from sampo.schemas.graph import WorkGraph\n",
    "\n",
    "\n",
    "def metric_vertex_count(wg: WorkGraph) -> float:\n",
    "    return wg.vertex_count\n",
    "\n",
    "def metric_min_children(wg: WorkGraph) -> float:\n",
    "    return min((len(node.children) for node in wg.nodes if node.children))\n",
    "\n",
    "def metric_max_children(wg: WorkGraph) -> float:\n",
    "    return max((len(node.children) for node in wg.nodes if node.children))\n",
    "\n",
    "def metric_min_parents(wg: WorkGraph) -> float:\n",
    "    return min((len(node.parents) for node in wg.nodes if node.parents))\n",
    "\n",
    "def metric_max_parents(wg: WorkGraph) -> float:\n",
    "    return max((len(node.parents) for node in wg.nodes if node.parents))"
   ],
   "metadata": {
    "collapsed": false
   }
  },
  {
   "cell_type": "code",
   "execution_count": 5,
   "outputs": [
    {
     "data": {
      "text/plain": "[(36, 1, 24, 1, 22),\n (150, 1, 60, 1, 42),\n (129, 1, 42, 1, 48),\n (131, 1, 40, 1, 52),\n (198, 1, 64, 1, 40),\n (129, 1, 42, 1, 58),\n (139, 1, 46, 1, 64),\n (39, 1, 27, 1, 25),\n (141, 1, 42, 1, 59),\n (135, 1, 43, 1, 58)]"
     },
     "execution_count": 5,
     "metadata": {},
     "output_type": "execute_result"
    }
   ],
   "source": [
    "dataset = [(\n",
    "    metric_vertex_count(wg),\n",
    "    metric_min_children(wg),\n",
    "    metric_max_children(wg),\n",
    "    metric_min_parents(wg),\n",
    "    metric_max_parents(wg)\n",
    ") for wg in graphs]\n",
    "\n",
    "dataset"
   ],
   "metadata": {
    "collapsed": false
   }
  },
  {
   "cell_type": "code",
   "execution_count": 6,
   "outputs": [
    {
     "name": "stdout",
     "output_type": "stream",
     "text": [
      "0/10 processed\n"
     ]
    },
    {
     "data": {
      "text/plain": "[[395, 590, 637],\n [1431, 1440, 1581],\n [1123, 1087, 1166],\n [1208, 1296, 1294],\n [1968, 1863, 1778],\n [1025, 1109, 1156],\n [1389, 1429, 1788],\n [476, 609, 626],\n [1244, 1418, 1333],\n [1239, 1286, 1420]]"
     },
     "execution_count": 6,
     "metadata": {},
     "output_type": "execute_result"
    }
   ],
   "source": [
    "from sampo.schemas.time import Time\n",
    "from sampo.scheduler.topological.base import TopologicalScheduler\n",
    "from sampo.scheduler.heft.base import HEFTScheduler, HEFTBetweenScheduler\n",
    "\n",
    "contractors = [ss.contractor(10)]\n",
    "schedulers = [HEFTScheduler(), HEFTBetweenScheduler(), TopologicalScheduler()]\n",
    "\n",
    "def generate_result(i: int, wg: WorkGraph) -> list[float]:\n",
    "    if i % 10 == 0:\n",
    "        print(f'{i}/{len(graphs)} processed')\n",
    "    return [int(scheduler.schedule(wg, contractors).execution_time) for scheduler in schedulers]\n",
    "\n",
    "schedulers_results = [generate_result(i, wg) for i, wg in enumerate(graphs)]\n",
    "schedulers_results"
   ],
   "metadata": {
    "collapsed": false
   }
  },
  {
   "cell_type": "code",
   "execution_count": 7,
   "outputs": [
    {
     "data": {
      "text/plain": "[0, 0, 1, 0, 2, 0, 0, 0, 0, 0]"
     },
     "execution_count": 7,
     "metadata": {},
     "output_type": "execute_result"
    }
   ],
   "source": [
    "def argmin(array) -> int:\n",
    "    res = 0\n",
    "    res_v = int(Time.inf())\n",
    "    for i, v in enumerate(array):\n",
    "        if v < res_v:\n",
    "            res_v = v\n",
    "            res = i\n",
    "    return res\n",
    "\n",
    "schedulers_classification = [argmin(result) for result in schedulers_results]\n",
    "schedulers_classification"
   ],
   "metadata": {
    "collapsed": false
   }
  },
  {
   "cell_type": "code",
   "execution_count": 8,
   "outputs": [
    {
     "data": {
      "text/plain": "     0  1   2  3   4\n0   36  1  24  1  22\n1  150  1  60  1  42\n2  129  1  42  1  48\n3  131  1  40  1  52\n4  198  1  64  1  40\n5  129  1  42  1  58\n6  139  1  46  1  64\n7   39  1  27  1  25\n8  141  1  42  1  59\n9  135  1  43  1  58",
      "text/html": "<div>\n<style scoped>\n    .dataframe tbody tr th:only-of-type {\n        vertical-align: middle;\n    }\n\n    .dataframe tbody tr th {\n        vertical-align: top;\n    }\n\n    .dataframe thead th {\n        text-align: right;\n    }\n</style>\n<table border=\"1\" class=\"dataframe\">\n  <thead>\n    <tr style=\"text-align: right;\">\n      <th></th>\n      <th>0</th>\n      <th>1</th>\n      <th>2</th>\n      <th>3</th>\n      <th>4</th>\n    </tr>\n  </thead>\n  <tbody>\n    <tr>\n      <th>0</th>\n      <td>36</td>\n      <td>1</td>\n      <td>24</td>\n      <td>1</td>\n      <td>22</td>\n    </tr>\n    <tr>\n      <th>1</th>\n      <td>150</td>\n      <td>1</td>\n      <td>60</td>\n      <td>1</td>\n      <td>42</td>\n    </tr>\n    <tr>\n      <th>2</th>\n      <td>129</td>\n      <td>1</td>\n      <td>42</td>\n      <td>1</td>\n      <td>48</td>\n    </tr>\n    <tr>\n      <th>3</th>\n      <td>131</td>\n      <td>1</td>\n      <td>40</td>\n      <td>1</td>\n      <td>52</td>\n    </tr>\n    <tr>\n      <th>4</th>\n      <td>198</td>\n      <td>1</td>\n      <td>64</td>\n      <td>1</td>\n      <td>40</td>\n    </tr>\n    <tr>\n      <th>5</th>\n      <td>129</td>\n      <td>1</td>\n      <td>42</td>\n      <td>1</td>\n      <td>58</td>\n    </tr>\n    <tr>\n      <th>6</th>\n      <td>139</td>\n      <td>1</td>\n      <td>46</td>\n      <td>1</td>\n      <td>64</td>\n    </tr>\n    <tr>\n      <th>7</th>\n      <td>39</td>\n      <td>1</td>\n      <td>27</td>\n      <td>1</td>\n      <td>25</td>\n    </tr>\n    <tr>\n      <th>8</th>\n      <td>141</td>\n      <td>1</td>\n      <td>42</td>\n      <td>1</td>\n      <td>59</td>\n    </tr>\n    <tr>\n      <th>9</th>\n      <td>135</td>\n      <td>1</td>\n      <td>43</td>\n      <td>1</td>\n      <td>58</td>\n    </tr>\n  </tbody>\n</table>\n</div>"
     },
     "execution_count": 8,
     "metadata": {},
     "output_type": "execute_result"
    }
   ],
   "source": [
    "from pandas import DataFrame\n",
    "\n",
    "df = DataFrame.from_dict(dataset)\n",
    "df"
   ],
   "metadata": {
    "collapsed": false
   }
  },
  {
   "cell_type": "code",
   "execution_count": 9,
   "outputs": [
    {
     "data": {
      "text/plain": "     0  1   2  3   4  label\n0   36  1  24  1  22      0\n1  150  1  60  1  42      0\n2  129  1  42  1  48      1\n3  131  1  40  1  52      0\n4  198  1  64  1  40      2\n5  129  1  42  1  58      0\n6  139  1  46  1  64      0\n7   39  1  27  1  25      0\n8  141  1  42  1  59      0\n9  135  1  43  1  58      0",
      "text/html": "<div>\n<style scoped>\n    .dataframe tbody tr th:only-of-type {\n        vertical-align: middle;\n    }\n\n    .dataframe tbody tr th {\n        vertical-align: top;\n    }\n\n    .dataframe thead th {\n        text-align: right;\n    }\n</style>\n<table border=\"1\" class=\"dataframe\">\n  <thead>\n    <tr style=\"text-align: right;\">\n      <th></th>\n      <th>0</th>\n      <th>1</th>\n      <th>2</th>\n      <th>3</th>\n      <th>4</th>\n      <th>label</th>\n    </tr>\n  </thead>\n  <tbody>\n    <tr>\n      <th>0</th>\n      <td>36</td>\n      <td>1</td>\n      <td>24</td>\n      <td>1</td>\n      <td>22</td>\n      <td>0</td>\n    </tr>\n    <tr>\n      <th>1</th>\n      <td>150</td>\n      <td>1</td>\n      <td>60</td>\n      <td>1</td>\n      <td>42</td>\n      <td>0</td>\n    </tr>\n    <tr>\n      <th>2</th>\n      <td>129</td>\n      <td>1</td>\n      <td>42</td>\n      <td>1</td>\n      <td>48</td>\n      <td>1</td>\n    </tr>\n    <tr>\n      <th>3</th>\n      <td>131</td>\n      <td>1</td>\n      <td>40</td>\n      <td>1</td>\n      <td>52</td>\n      <td>0</td>\n    </tr>\n    <tr>\n      <th>4</th>\n      <td>198</td>\n      <td>1</td>\n      <td>64</td>\n      <td>1</td>\n      <td>40</td>\n      <td>2</td>\n    </tr>\n    <tr>\n      <th>5</th>\n      <td>129</td>\n      <td>1</td>\n      <td>42</td>\n      <td>1</td>\n      <td>58</td>\n      <td>0</td>\n    </tr>\n    <tr>\n      <th>6</th>\n      <td>139</td>\n      <td>1</td>\n      <td>46</td>\n      <td>1</td>\n      <td>64</td>\n      <td>0</td>\n    </tr>\n    <tr>\n      <th>7</th>\n      <td>39</td>\n      <td>1</td>\n      <td>27</td>\n      <td>1</td>\n      <td>25</td>\n      <td>0</td>\n    </tr>\n    <tr>\n      <th>8</th>\n      <td>141</td>\n      <td>1</td>\n      <td>42</td>\n      <td>1</td>\n      <td>59</td>\n      <td>0</td>\n    </tr>\n    <tr>\n      <th>9</th>\n      <td>135</td>\n      <td>1</td>\n      <td>43</td>\n      <td>1</td>\n      <td>58</td>\n      <td>0</td>\n    </tr>\n  </tbody>\n</table>\n</div>"
     },
     "execution_count": 9,
     "metadata": {},
     "output_type": "execute_result"
    }
   ],
   "source": [
    "df['label'] = schedulers_classification\n",
    "df"
   ],
   "metadata": {
    "collapsed": false
   }
  },
  {
   "cell_type": "code",
   "execution_count": 10,
   "outputs": [],
   "source": [
    "df.to_csv('dataset.csv')"
   ],
   "metadata": {
    "collapsed": false
   }
  },
  {
   "cell_type": "code",
   "execution_count": null,
   "outputs": [],
   "source": [],
   "metadata": {
    "collapsed": false
   }
  }
 ],
 "metadata": {
  "kernelspec": {
   "display_name": "Python 3",
   "language": "python",
   "name": "python3"
  },
  "language_info": {
   "codemirror_mode": {
    "name": "ipython",
    "version": 2
   },
   "file_extension": ".py",
   "mimetype": "text/x-python",
   "name": "python",
   "nbconvert_exporter": "python",
   "pygments_lexer": "ipython2",
   "version": "2.7.6"
  }
 },
 "nbformat": 4,
 "nbformat_minor": 0
}
