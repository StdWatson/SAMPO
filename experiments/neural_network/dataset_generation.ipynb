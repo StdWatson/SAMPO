{
 "cells": [
  {
   "cell_type": "markdown",
   "source": [
    "# Graphs generation"
   ],
   "metadata": {
    "collapsed": false
   }
  },
  {
   "cell_type": "code",
   "execution_count": 1,
   "outputs": [],
   "source": [
    "from sampo.generator.base import SimpleSynthetic"
   ],
   "metadata": {
    "collapsed": false
   }
  },
  {
   "cell_type": "code",
   "execution_count": 11,
   "outputs": [],
   "source": [
    "GRAPHS_TOP_BORDER = 100\n",
    "GRAPHS_COUNT = 200"
   ],
   "metadata": {
    "collapsed": false
   }
  },
  {
   "cell_type": "code",
   "execution_count": 12,
   "outputs": [],
   "source": [
    "ss = SimpleSynthetic(111)\n",
    "\n",
    "graphs = [ss.work_graph(top_border=GRAPHS_TOP_BORDER) for _ in range(GRAPHS_COUNT)]"
   ],
   "metadata": {
    "collapsed": false
   }
  },
  {
   "cell_type": "markdown",
   "source": [
    "# Metrics calculation"
   ],
   "metadata": {
    "collapsed": false
   }
  },
  {
   "cell_type": "code",
   "execution_count": 13,
   "outputs": [],
   "source": [
    "from sampo.schemas.graph import WorkGraph\n",
    "\n",
    "\n",
    "def metric_vertex_count(wg: WorkGraph) -> float:\n",
    "    return wg.vertex_count\n",
    "\n",
    "def metric_min_children(wg: WorkGraph) -> float:\n",
    "    return min((len(node.children) for node in wg.nodes if node.children))\n",
    "\n",
    "def metric_max_children(wg: WorkGraph) -> float:\n",
    "    return max((len(node.children) for node in wg.nodes if node.children))\n",
    "\n",
    "def metric_min_parents(wg: WorkGraph) -> float:\n",
    "    return min((len(node.parents) for node in wg.nodes if node.parents))\n",
    "\n",
    "def metric_max_parents(wg: WorkGraph) -> float:\n",
    "    return max((len(node.parents) for node in wg.nodes if node.parents))"
   ],
   "metadata": {
    "collapsed": false
   }
  },
  {
   "cell_type": "code",
   "execution_count": 14,
   "outputs": [
    {
     "data": {
      "text/plain": "[(41, 1, 24, 1, 27),\n (150, 1, 60, 1, 42),\n (129, 1, 42, 1, 48),\n (131, 1, 40, 1, 52),\n (198, 1, 64, 1, 40),\n (129, 1, 42, 1, 58),\n (139, 1, 46, 1, 64),\n (46, 1, 27, 1, 32),\n (141, 1, 42, 1, 59),\n (135, 1, 43, 1, 58),\n (131, 1, 36, 1, 52),\n (40, 1, 24, 1, 26),\n (151, 1, 45, 1, 63),\n (117, 1, 34, 1, 45),\n (40, 1, 23, 1, 26),\n (131, 1, 44, 1, 57),\n (44, 1, 26, 1, 30),\n (115, 1, 42, 1, 45),\n (143, 1, 43, 1, 55),\n (38, 1, 24, 1, 24),\n (131, 1, 41, 1, 57),\n (139, 1, 41, 1, 54),\n (129, 1, 43, 1, 58),\n (113, 1, 37, 1, 47),\n (41, 1, 28, 1, 27),\n (141, 1, 48, 1, 62),\n (126, 1, 41, 1, 54),\n (168, 1, 62, 1, 53),\n (138, 1, 46, 1, 54),\n (136, 1, 44, 1, 51),\n (189, 1, 82, 1, 56),\n (38, 1, 24, 1, 24),\n (131, 1, 42, 1, 58),\n (126, 1, 50, 1, 61),\n (129, 1, 39, 1, 56),\n (192, 1, 60, 1, 51),\n (108, 1, 43, 1, 46),\n (111, 1, 32, 1, 50),\n (135, 1, 47, 1, 54),\n (114, 1, 36, 1, 44),\n (120, 1, 44, 1, 50),\n (116, 1, 35, 1, 43),\n (240, 1, 86, 1, 56),\n (165, 1, 86, 1, 45),\n (39, 1, 25, 1, 25),\n (123, 1, 41, 1, 58),\n (40, 1, 26, 1, 26),\n (148, 1, 48, 1, 61),\n (193, 1, 86, 1, 50),\n (132, 1, 42, 1, 57),\n (188, 1, 78, 1, 52),\n (188, 1, 84, 1, 51),\n (106, 1, 39, 1, 45),\n (36, 1, 25, 1, 22),\n (145, 1, 45, 1, 61),\n (119, 1, 37, 1, 47),\n (127, 1, 33, 1, 47),\n (124, 1, 42, 1, 47),\n (39, 1, 24, 1, 25),\n (45, 1, 27, 1, 31),\n (111, 1, 37, 1, 41),\n (131, 1, 45, 1, 58),\n (114, 1, 39, 1, 44),\n (180, 1, 64, 1, 59),\n (164, 1, 64, 1, 47),\n (191, 1, 68, 1, 51),\n (137, 1, 44, 1, 58),\n (140, 1, 38, 1, 53),\n (135, 1, 46, 1, 54),\n (123, 1, 35, 1, 46),\n (184, 1, 80, 1, 48),\n (196, 1, 66, 1, 53),\n (110, 1, 33, 1, 50),\n (149, 1, 50, 1, 48),\n (133, 1, 38, 1, 50),\n (185, 1, 80, 1, 50),\n (111, 1, 39, 1, 44),\n (37, 1, 23, 1, 23),\n (138, 1, 47, 1, 53),\n (44, 1, 26, 1, 30),\n (204, 1, 74, 1, 55),\n (44, 1, 25, 1, 30),\n (181, 1, 72, 1, 50),\n (183, 1, 76, 1, 62),\n (113, 1, 40, 1, 46),\n (123, 1, 45, 1, 49),\n (196, 1, 78, 1, 56),\n (127, 1, 47, 1, 59),\n (106, 1, 38, 1, 40),\n (113, 1, 38, 1, 47),\n (188, 1, 82, 1, 55),\n (137, 1, 44, 1, 53),\n (138, 1, 41, 1, 52),\n (168, 1, 68, 1, 44),\n (204, 1, 86, 1, 55),\n (37, 1, 25, 1, 23),\n (125, 1, 41, 1, 53),\n (224, 1, 88, 1, 61),\n (117, 1, 38, 1, 44),\n (39, 1, 26, 1, 25),\n (132, 1, 41, 1, 49),\n (143, 1, 54, 1, 43),\n (123, 1, 40, 1, 54),\n (185, 1, 92, 1, 52),\n (42, 1, 25, 1, 28),\n (35, 1, 21, 1, 21),\n (127, 1, 44, 1, 57),\n (39, 1, 23, 1, 25),\n (43, 1, 26, 1, 29),\n (169, 1, 66, 1, 54),\n (197, 1, 82, 1, 57),\n (117, 1, 35, 1, 42),\n (130, 1, 39, 1, 54),\n (149, 1, 46, 1, 62),\n (114, 1, 35, 1, 45),\n (139, 1, 62, 1, 35),\n (114, 1, 34, 1, 46),\n (193, 1, 80, 1, 56),\n (187, 1, 84, 1, 49),\n (42, 1, 26, 1, 28),\n (36, 1, 23, 1, 22),\n (40, 1, 27, 1, 26),\n (130, 1, 39, 1, 54),\n (179, 1, 74, 1, 47),\n (144, 1, 40, 1, 56),\n (127, 1, 40, 1, 47),\n (129, 1, 42, 1, 53),\n (40, 1, 27, 1, 26),\n (166, 1, 74, 1, 45),\n (203, 1, 78, 1, 56),\n (33, 1, 22, 1, 19),\n (167, 1, 74, 1, 48),\n (124, 1, 43, 1, 48),\n (205, 1, 88, 1, 56),\n (196, 1, 72, 1, 41),\n (212, 1, 80, 1, 57),\n (123, 1, 38, 1, 50),\n (38, 1, 26, 1, 24),\n (200, 1, 88, 1, 60),\n (140, 1, 49, 1, 61),\n (41, 1, 25, 1, 27),\n (38, 1, 22, 1, 24),\n (146, 1, 52, 1, 49),\n (145, 1, 46, 1, 63),\n (126, 1, 38, 1, 46),\n (33, 1, 22, 1, 19),\n (32, 1, 21, 1, 18),\n (118, 1, 38, 1, 54),\n (225, 1, 60, 1, 47),\n (148, 1, 45, 1, 60),\n (188, 1, 78, 1, 55),\n (130, 1, 44, 1, 60),\n (166, 1, 66, 1, 49),\n (118, 1, 38, 1, 49),\n (155, 1, 60, 1, 45),\n (38, 1, 24, 1, 24),\n (176, 1, 84, 1, 48),\n (180, 1, 80, 1, 49),\n (123, 1, 44, 1, 51),\n (168, 1, 64, 1, 61),\n (135, 1, 44, 1, 58),\n (123, 1, 38, 1, 48),\n (37, 1, 24, 1, 23),\n (119, 1, 37, 1, 44),\n (151, 1, 54, 1, 44),\n (40, 1, 24, 1, 26),\n (149, 1, 49, 1, 62),\n (33, 1, 22, 1, 19),\n (114, 1, 34, 1, 43),\n (195, 1, 64, 1, 54),\n (125, 1, 44, 1, 49),\n (242, 1, 94, 1, 58),\n (163, 1, 62, 1, 43),\n (210, 1, 88, 1, 55),\n (126, 1, 39, 1, 48),\n (124, 1, 42, 1, 50),\n (42, 1, 27, 1, 28),\n (202, 1, 92, 1, 60),\n (167, 1, 72, 1, 48),\n (39, 1, 26, 1, 25),\n (156, 1, 68, 1, 45),\n (174, 1, 60, 1, 59),\n (43, 1, 26, 1, 29),\n (134, 1, 41, 1, 57),\n (127, 1, 45, 1, 50),\n (189, 1, 68, 1, 58),\n (133, 1, 40, 1, 56),\n (123, 1, 43, 1, 60),\n (134, 1, 58, 1, 33),\n (38, 1, 23, 1, 24),\n (40, 1, 26, 1, 26),\n (36, 1, 24, 1, 22),\n (136, 1, 42, 1, 53),\n (173, 1, 78, 1, 48),\n (130, 1, 40, 1, 56),\n (202, 1, 62, 1, 57),\n (191, 1, 84, 1, 52),\n (133, 1, 42, 1, 51),\n (119, 1, 45, 1, 54),\n (129, 1, 42, 1, 49)]"
     },
     "execution_count": 14,
     "metadata": {},
     "output_type": "execute_result"
    }
   ],
   "source": [
    "dataset = [(\n",
    "    metric_vertex_count(wg),\n",
    "    metric_min_children(wg),\n",
    "    metric_max_children(wg),\n",
    "    metric_min_parents(wg),\n",
    "    metric_max_parents(wg)\n",
    ") for wg in graphs]\n",
    "\n",
    "dataset"
   ],
   "metadata": {
    "collapsed": false
   }
  },
  {
   "cell_type": "code",
   "execution_count": 15,
   "outputs": [
    {
     "name": "stdout",
     "output_type": "stream",
     "text": [
      "0/200 processed\n",
      "10/200 processed\n",
      "20/200 processed\n",
      "30/200 processed\n",
      "40/200 processed\n",
      "50/200 processed\n",
      "60/200 processed\n",
      "70/200 processed\n",
      "80/200 processed\n",
      "90/200 processed\n",
      "100/200 processed\n",
      "110/200 processed\n",
      "120/200 processed\n",
      "130/200 processed\n",
      "140/200 processed\n",
      "150/200 processed\n",
      "160/200 processed\n",
      "170/200 processed\n",
      "180/200 processed\n",
      "190/200 processed\n"
     ]
    },
    {
     "data": {
      "text/plain": "[[491, 728, 681],\n [1414, 1304, 1672],\n [958, 1076, 1230],\n [1198, 1286, 1220],\n [1787, 1773, 1830],\n [971, 1107, 1244],\n [1244, 1325, 1507],\n [411, 631, 438],\n [1247, 1272, 1414],\n [1188, 1298, 1368],\n [1270, 1348, 1461],\n [508, 654, 666],\n [1230, 1300, 1303],\n [895, 1040, 1246],\n [367, 459, 485],\n [1187, 1113, 1257],\n [467, 646, 677],\n [997, 1213, 1455],\n [1110, 1278, 1301],\n [420, 682, 384],\n [1111, 1219, 1422],\n [1208, 1352, 1571],\n [1178, 1269, 1424],\n [1015, 1203, 1317],\n [344, 605, 488],\n [1148, 1336, 1445],\n [1028, 1206, 1492],\n [1282, 1335, 1377],\n [1165, 1367, 1722],\n [1181, 1269, 1417],\n [1464, 1498, 1661],\n [490, 677, 678],\n [1096, 1108, 1183],\n [1127, 1188, 1526],\n [1067, 1177, 1355],\n [1687, 1650, 1454],\n [835, 931, 1149],\n [1142, 1110, 1236],\n [1352, 1280, 1604],\n [970, 1044, 1160],\n [1013, 1174, 1193],\n [1112, 1113, 1215],\n [2036, 2054, 2135],\n [1409, 1475, 1819],\n [417, 636, 535],\n [1141, 1280, 1427],\n [312, 532, 459],\n [1395, 1336, 1528],\n [1566, 1554, 1480],\n [1002, 1120, 1406],\n [1409, 1510, 1321],\n [1382, 1486, 1486],\n [910, 1121, 1332],\n [415, 641, 498],\n [1095, 1308, 1445],\n [1144, 1157, 1520],\n [993, 1128, 1264],\n [1133, 1117, 1337],\n [363, 603, 493],\n [380, 608, 528],\n [839, 1001, 1077],\n [1114, 1153, 1287],\n [1027, 1159, 1433],\n [1414, 1472, 1490],\n [1663, 1583, 1734],\n [1657, 1643, 1648],\n [1199, 1260, 1430],\n [1020, 1217, 1167],\n [1170, 1253, 1312],\n [1216, 1295, 1531],\n [1500, 1595, 1694],\n [1770, 1648, 1726],\n [968, 1113, 1282],\n [1108, 1264, 1298],\n [955, 1175, 1086],\n [1499, 1504, 1422],\n [887, 1013, 1258],\n [389, 613, 520],\n [1235, 1256, 1340],\n [519, 666, 588],\n [1779, 1759, 1733],\n [485, 687, 610],\n [1592, 1559, 1428],\n [1391, 1478, 1644],\n [1053, 1057, 1214],\n [1009, 1117, 1424],\n [1475, 1548, 1718],\n [1056, 1110, 1245],\n [819, 920, 1180],\n [915, 1120, 1184],\n [1760, 1676, 1985],\n [1143, 1326, 1301],\n [1212, 1323, 1574],\n [1433, 1488, 1585],\n [1717, 1658, 1811],\n [421, 642, 551],\n [1163, 1270, 1393],\n [1679, 1616, 1769],\n [907, 1049, 1447],\n [454, 618, 612],\n [975, 1124, 1255],\n [1351, 1307, 1625],\n [1000, 1124, 1216],\n [1608, 1670, 2035],\n [352, 576, 532],\n [454, 591, 542],\n [1071, 1255, 1419],\n [502, 642, 608],\n [514, 592, 640],\n [1246, 1452, 1760],\n [1558, 1675, 1735],\n [1035, 1158, 1340],\n [1137, 1275, 1599],\n [1422, 1413, 1692],\n [992, 1162, 1149],\n [1178, 1304, 1322],\n [1180, 1175, 1409],\n [1465, 1557, 1554],\n [1367, 1421, 1612],\n [466, 648, 601],\n [458, 619, 599],\n [457, 625, 568],\n [983, 1152, 1277],\n [1470, 1542, 1712],\n [1338, 1450, 1732],\n [1050, 1169, 1266],\n [1023, 1268, 1334],\n [343, 589, 449],\n [1305, 1398, 1582],\n [1585, 1551, 1552],\n [450, 624, 677],\n [1218, 1368, 1407],\n [1203, 1207, 1558],\n [1666, 1698, 1859],\n [1883, 1666, 1735],\n [1679, 1663, 1729],\n [1125, 1313, 1565],\n [328, 548, 496],\n [1487, 1559, 1627],\n [1254, 1337, 1387],\n [495, 633, 673],\n [444, 630, 573],\n [1180, 1295, 1384],\n [1245, 1387, 1478],\n [1266, 1259, 1463],\n [443, 541, 590],\n [398, 638, 546],\n [943, 991, 1083],\n [1949, 2000, 2173],\n [1245, 1410, 1537],\n [1321, 1423, 1754],\n [1188, 1174, 1157],\n [1137, 1273, 1352],\n [825, 1005, 1033],\n [1330, 1373, 1510],\n [378, 610, 510],\n [1507, 1545, 1886],\n [1549, 1578, 1773],\n [1072, 1231, 1491],\n [1424, 1440, 1628],\n [1137, 1206, 1409],\n [1075, 1187, 1353],\n [418, 485, 422],\n [1091, 1218, 1466],\n [1094, 1207, 1257],\n [430, 635, 520],\n [1408, 1444, 1561],\n [369, 541, 466],\n [960, 1074, 1259],\n [1809, 1684, 1870],\n [1074, 1153, 1269],\n [1820, 1929, 2067],\n [1212, 1276, 1274],\n [1776, 1846, 1933],\n [1162, 1253, 1438],\n [939, 1072, 1063],\n [359, 572, 541],\n [1886, 1953, 2112],\n [1290, 1339, 1514],\n [399, 615, 437],\n [1617, 1503, 1687],\n [1441, 1523, 1482],\n [377, 575, 693],\n [962, 1131, 1366],\n [1127, 1239, 1588],\n [1488, 1563, 1593],\n [1106, 1227, 1470],\n [963, 1115, 1272],\n [1207, 1196, 1346],\n [354, 437, 463],\n [366, 588, 505],\n [369, 551, 450],\n [1175, 1392, 1345],\n [1702, 1606, 1911],\n [1172, 1129, 1440],\n [1855, 1743, 2007],\n [1824, 1863, 2146],\n [1164, 1287, 1425],\n [1034, 1345, 1222],\n [1075, 1249, 1313]]"
     },
     "execution_count": 15,
     "metadata": {},
     "output_type": "execute_result"
    }
   ],
   "source": [
    "from sampo.schemas.time import Time\n",
    "from sampo.scheduler.topological.base import TopologicalScheduler\n",
    "from sampo.scheduler.heft.base import HEFTScheduler, HEFTBetweenScheduler\n",
    "\n",
    "contractors = [ss.contractor(10)]\n",
    "schedulers = [HEFTScheduler(), HEFTBetweenScheduler(), TopologicalScheduler()]\n",
    "\n",
    "def generate_result(i: int, wg: WorkGraph) -> list[float]:\n",
    "    if i % 10 == 0:\n",
    "        print(f'{i}/{len(graphs)} processed')\n",
    "    return [int(scheduler.schedule(wg, contractors).execution_time) for scheduler in schedulers]\n",
    "\n",
    "schedulers_results = [generate_result(i, wg) for i, wg in enumerate(graphs)]\n",
    "schedulers_results"
   ],
   "metadata": {
    "collapsed": false
   }
  },
  {
   "cell_type": "code",
   "execution_count": 16,
   "outputs": [
    {
     "data": {
      "text/plain": "[0,\n 1,\n 0,\n 0,\n 1,\n 0,\n 0,\n 0,\n 0,\n 0,\n 0,\n 0,\n 0,\n 0,\n 0,\n 1,\n 0,\n 0,\n 0,\n 2,\n 0,\n 0,\n 0,\n 0,\n 0,\n 0,\n 0,\n 0,\n 0,\n 0,\n 0,\n 0,\n 0,\n 0,\n 0,\n 2,\n 0,\n 1,\n 1,\n 0,\n 0,\n 0,\n 0,\n 0,\n 0,\n 0,\n 0,\n 1,\n 2,\n 0,\n 2,\n 0,\n 0,\n 0,\n 0,\n 0,\n 0,\n 1,\n 0,\n 0,\n 0,\n 0,\n 0,\n 0,\n 1,\n 1,\n 0,\n 0,\n 0,\n 0,\n 0,\n 1,\n 0,\n 0,\n 0,\n 2,\n 0,\n 0,\n 0,\n 0,\n 2,\n 0,\n 2,\n 0,\n 0,\n 0,\n 0,\n 0,\n 0,\n 0,\n 1,\n 0,\n 0,\n 0,\n 1,\n 0,\n 0,\n 1,\n 0,\n 0,\n 0,\n 1,\n 0,\n 0,\n 0,\n 0,\n 0,\n 0,\n 0,\n 0,\n 0,\n 0,\n 0,\n 1,\n 0,\n 0,\n 1,\n 0,\n 0,\n 0,\n 0,\n 0,\n 0,\n 0,\n 0,\n 0,\n 0,\n 0,\n 0,\n 1,\n 0,\n 0,\n 0,\n 0,\n 1,\n 1,\n 0,\n 0,\n 0,\n 0,\n 0,\n 0,\n 0,\n 0,\n 1,\n 0,\n 0,\n 0,\n 0,\n 0,\n 0,\n 2,\n 0,\n 0,\n 0,\n 0,\n 0,\n 0,\n 0,\n 0,\n 0,\n 0,\n 0,\n 0,\n 0,\n 0,\n 0,\n 0,\n 0,\n 1,\n 0,\n 0,\n 0,\n 0,\n 0,\n 0,\n 0,\n 0,\n 0,\n 0,\n 1,\n 0,\n 0,\n 0,\n 0,\n 0,\n 0,\n 0,\n 1,\n 0,\n 0,\n 0,\n 0,\n 1,\n 1,\n 1,\n 0,\n 0,\n 0,\n 0]"
     },
     "execution_count": 16,
     "metadata": {},
     "output_type": "execute_result"
    }
   ],
   "source": [
    "def argmin(array) -> int:\n",
    "    res = 0\n",
    "    res_v = int(Time.inf())\n",
    "    for i, v in enumerate(array):\n",
    "        if v < res_v:\n",
    "            res_v = v\n",
    "            res = i\n",
    "    return res\n",
    "\n",
    "schedulers_classification = [argmin(result) for result in schedulers_results]\n",
    "schedulers_classification"
   ],
   "metadata": {
    "collapsed": false
   }
  },
  {
   "cell_type": "code",
   "execution_count": 17,
   "outputs": [
    {
     "data": {
      "text/plain": "       0  1   2  3   4\n0     41  1  24  1  27\n1    150  1  60  1  42\n2    129  1  42  1  48\n3    131  1  40  1  52\n4    198  1  64  1  40\n..   ... ..  .. ..  ..\n195  202  1  62  1  57\n196  191  1  84  1  52\n197  133  1  42  1  51\n198  119  1  45  1  54\n199  129  1  42  1  49\n\n[200 rows x 5 columns]",
      "text/html": "<div>\n<style scoped>\n    .dataframe tbody tr th:only-of-type {\n        vertical-align: middle;\n    }\n\n    .dataframe tbody tr th {\n        vertical-align: top;\n    }\n\n    .dataframe thead th {\n        text-align: right;\n    }\n</style>\n<table border=\"1\" class=\"dataframe\">\n  <thead>\n    <tr style=\"text-align: right;\">\n      <th></th>\n      <th>0</th>\n      <th>1</th>\n      <th>2</th>\n      <th>3</th>\n      <th>4</th>\n    </tr>\n  </thead>\n  <tbody>\n    <tr>\n      <th>0</th>\n      <td>41</td>\n      <td>1</td>\n      <td>24</td>\n      <td>1</td>\n      <td>27</td>\n    </tr>\n    <tr>\n      <th>1</th>\n      <td>150</td>\n      <td>1</td>\n      <td>60</td>\n      <td>1</td>\n      <td>42</td>\n    </tr>\n    <tr>\n      <th>2</th>\n      <td>129</td>\n      <td>1</td>\n      <td>42</td>\n      <td>1</td>\n      <td>48</td>\n    </tr>\n    <tr>\n      <th>3</th>\n      <td>131</td>\n      <td>1</td>\n      <td>40</td>\n      <td>1</td>\n      <td>52</td>\n    </tr>\n    <tr>\n      <th>4</th>\n      <td>198</td>\n      <td>1</td>\n      <td>64</td>\n      <td>1</td>\n      <td>40</td>\n    </tr>\n    <tr>\n      <th>...</th>\n      <td>...</td>\n      <td>...</td>\n      <td>...</td>\n      <td>...</td>\n      <td>...</td>\n    </tr>\n    <tr>\n      <th>195</th>\n      <td>202</td>\n      <td>1</td>\n      <td>62</td>\n      <td>1</td>\n      <td>57</td>\n    </tr>\n    <tr>\n      <th>196</th>\n      <td>191</td>\n      <td>1</td>\n      <td>84</td>\n      <td>1</td>\n      <td>52</td>\n    </tr>\n    <tr>\n      <th>197</th>\n      <td>133</td>\n      <td>1</td>\n      <td>42</td>\n      <td>1</td>\n      <td>51</td>\n    </tr>\n    <tr>\n      <th>198</th>\n      <td>119</td>\n      <td>1</td>\n      <td>45</td>\n      <td>1</td>\n      <td>54</td>\n    </tr>\n    <tr>\n      <th>199</th>\n      <td>129</td>\n      <td>1</td>\n      <td>42</td>\n      <td>1</td>\n      <td>49</td>\n    </tr>\n  </tbody>\n</table>\n<p>200 rows × 5 columns</p>\n</div>"
     },
     "execution_count": 17,
     "metadata": {},
     "output_type": "execute_result"
    }
   ],
   "source": [
    "from pandas import DataFrame\n",
    "\n",
    "df = DataFrame.from_dict(dataset)\n",
    "df"
   ],
   "metadata": {
    "collapsed": false
   }
  },
  {
   "cell_type": "code",
   "execution_count": 18,
   "outputs": [
    {
     "data": {
      "text/plain": "       0  1   2  3   4  label\n0     41  1  24  1  27      0\n1    150  1  60  1  42      1\n2    129  1  42  1  48      0\n3    131  1  40  1  52      0\n4    198  1  64  1  40      1\n..   ... ..  .. ..  ..    ...\n195  202  1  62  1  57      1\n196  191  1  84  1  52      0\n197  133  1  42  1  51      0\n198  119  1  45  1  54      0\n199  129  1  42  1  49      0\n\n[200 rows x 6 columns]",
      "text/html": "<div>\n<style scoped>\n    .dataframe tbody tr th:only-of-type {\n        vertical-align: middle;\n    }\n\n    .dataframe tbody tr th {\n        vertical-align: top;\n    }\n\n    .dataframe thead th {\n        text-align: right;\n    }\n</style>\n<table border=\"1\" class=\"dataframe\">\n  <thead>\n    <tr style=\"text-align: right;\">\n      <th></th>\n      <th>0</th>\n      <th>1</th>\n      <th>2</th>\n      <th>3</th>\n      <th>4</th>\n      <th>label</th>\n    </tr>\n  </thead>\n  <tbody>\n    <tr>\n      <th>0</th>\n      <td>41</td>\n      <td>1</td>\n      <td>24</td>\n      <td>1</td>\n      <td>27</td>\n      <td>0</td>\n    </tr>\n    <tr>\n      <th>1</th>\n      <td>150</td>\n      <td>1</td>\n      <td>60</td>\n      <td>1</td>\n      <td>42</td>\n      <td>1</td>\n    </tr>\n    <tr>\n      <th>2</th>\n      <td>129</td>\n      <td>1</td>\n      <td>42</td>\n      <td>1</td>\n      <td>48</td>\n      <td>0</td>\n    </tr>\n    <tr>\n      <th>3</th>\n      <td>131</td>\n      <td>1</td>\n      <td>40</td>\n      <td>1</td>\n      <td>52</td>\n      <td>0</td>\n    </tr>\n    <tr>\n      <th>4</th>\n      <td>198</td>\n      <td>1</td>\n      <td>64</td>\n      <td>1</td>\n      <td>40</td>\n      <td>1</td>\n    </tr>\n    <tr>\n      <th>...</th>\n      <td>...</td>\n      <td>...</td>\n      <td>...</td>\n      <td>...</td>\n      <td>...</td>\n      <td>...</td>\n    </tr>\n    <tr>\n      <th>195</th>\n      <td>202</td>\n      <td>1</td>\n      <td>62</td>\n      <td>1</td>\n      <td>57</td>\n      <td>1</td>\n    </tr>\n    <tr>\n      <th>196</th>\n      <td>191</td>\n      <td>1</td>\n      <td>84</td>\n      <td>1</td>\n      <td>52</td>\n      <td>0</td>\n    </tr>\n    <tr>\n      <th>197</th>\n      <td>133</td>\n      <td>1</td>\n      <td>42</td>\n      <td>1</td>\n      <td>51</td>\n      <td>0</td>\n    </tr>\n    <tr>\n      <th>198</th>\n      <td>119</td>\n      <td>1</td>\n      <td>45</td>\n      <td>1</td>\n      <td>54</td>\n      <td>0</td>\n    </tr>\n    <tr>\n      <th>199</th>\n      <td>129</td>\n      <td>1</td>\n      <td>42</td>\n      <td>1</td>\n      <td>49</td>\n      <td>0</td>\n    </tr>\n  </tbody>\n</table>\n<p>200 rows × 6 columns</p>\n</div>"
     },
     "execution_count": 18,
     "metadata": {},
     "output_type": "execute_result"
    }
   ],
   "source": [
    "df['label'] = schedulers_classification\n",
    "df"
   ],
   "metadata": {
    "collapsed": false
   }
  },
  {
   "cell_type": "code",
   "execution_count": 19,
   "outputs": [],
   "source": [
    "df.to_csv('dataset.csv')"
   ],
   "metadata": {
    "collapsed": false
   }
  },
  {
   "cell_type": "code",
   "execution_count": null,
   "outputs": [],
   "source": [],
   "metadata": {
    "collapsed": false
   }
  }
 ],
 "metadata": {
  "kernelspec": {
   "display_name": "Python 3",
   "language": "python",
   "name": "python3"
  },
  "language_info": {
   "codemirror_mode": {
    "name": "ipython",
    "version": 2
   },
   "file_extension": ".py",
   "mimetype": "text/x-python",
   "name": "python",
   "nbconvert_exporter": "python",
   "pygments_lexer": "ipython2",
   "version": "2.7.6"
  }
 },
 "nbformat": 4,
 "nbformat_minor": 0
}
