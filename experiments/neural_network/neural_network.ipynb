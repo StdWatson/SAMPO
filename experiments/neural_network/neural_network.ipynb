{
 "cells": [
  {
   "cell_type": "code",
   "execution_count": 1,
   "metadata": {
    "collapsed": true
   },
   "outputs": [],
   "source": [
    "import torch\n",
    "\n",
    "from torch import nn\n",
    "from torch.autograd import Variable"
   ]
  },
  {
   "cell_type": "code",
   "execution_count": 2,
   "outputs": [],
   "source": [
    "input_parameters = 5\n",
    "layer_size = 5\n",
    "layer_count = 3\n",
    "classification_size = 1\n",
    "learning_rate = 0.001"
   ],
   "metadata": {
    "collapsed": false
   }
  },
  {
   "cell_type": "code",
   "execution_count": 3,
   "outputs": [],
   "source": [
    "graph_stat = Variable(torch.ones(input_parameters, layer_size))"
   ],
   "metadata": {
    "collapsed": false
   }
  },
  {
   "cell_type": "code",
   "execution_count": 4,
   "outputs": [],
   "source": [
    "class NeuralNet(nn.Module):\n",
    "    def __init__(self):\n",
    "        super(NeuralNet, self).__init__()\n",
    "        self.linear0 = torch.nn.Linear(layer_size, layer_size)\n",
    "        self.linear1 = torch.nn.Linear(layer_size, layer_size)\n",
    "        self.linear2 = torch.nn.Linear(layer_size, classification_size)\n",
    "\n",
    "    def forward(self, x):\n",
    "        x = self.linear0(x)\n",
    "        x = self.linear1(x)\n",
    "        x = self.linear2(x)\n",
    "        return x"
   ],
   "metadata": {
    "collapsed": false
   }
  },
  {
   "cell_type": "code",
   "execution_count": 5,
   "outputs": [
    {
     "data": {
      "text/plain": "tensor([[0.2851],\n        [0.2851],\n        [0.2851],\n        [0.2851],\n        [0.2851]], grad_fn=<AddmmBackward0>)"
     },
     "execution_count": 5,
     "metadata": {},
     "output_type": "execute_result"
    }
   ],
   "source": [
    "model = NeuralNet()\n",
    "\n",
    "result = model(graph_stat)\n",
    "result"
   ],
   "metadata": {
    "collapsed": false
   }
  },
  {
   "cell_type": "code",
   "execution_count": 6,
   "outputs": [],
   "source": [
    "criterion = torch.nn.CrossEntropyLoss()\n",
    "optimizer = torch.optim.Adam(model.parameters(), lr=learning_rate)"
   ],
   "metadata": {
    "collapsed": false
   }
  },
  {
   "cell_type": "code",
   "execution_count": 44,
   "outputs": [
    {
     "name": "stdout",
     "output_type": "stream",
     "text": [
      "[tensor([36.,  1., 24.,  1., 22.]), tensor([150.,   1.,  60.,   1.,  42.]), tensor([129.,   1.,  42.,   1.,  48.]), tensor([131.,   1.,  40.,   1.,  52.]), tensor([198.,   1.,  64.,   1.,  40.]), tensor([129.,   1.,  42.,   1.,  58.]), tensor([139.,   1.,  46.,   1.,  64.]), tensor([39.,  1., 27.,  1., 25.]), tensor([141.,   1.,  42.,   1.,  59.]), tensor([135.,   1.,  43.,   1.,  58.])]\n",
      "[tensor([0.]), tensor([0.]), tensor([1.]), tensor([0.]), tensor([2.]), tensor([0.]), tensor([0.]), tensor([0.]), tensor([0.]), tensor([0.])]\n"
     ]
    }
   ],
   "source": [
    "import pandas\n",
    "from pandas import DataFrame\n",
    "\n",
    "\n",
    "def load_dataset(filename: str) -> tuple[list, list]:\n",
    "    df = pandas.read_csv(filename)\n",
    "    df.reset_index()\n",
    "    return [torch.Tensor(v) for v in df.drop('label', axis=1).to_numpy()[:, 1:]], \\\n",
    "           [torch.Tensor([v]) for v in df['label'].to_numpy()]\n",
    "\n",
    "def f(i, j) -> list[float]:\n",
    "    return i * 10 + j * j\n",
    "\n",
    "# dataset = [torch.Tensor([f(i, j) for j in range(input_parameters)]) + torch.randn(input_parameters) for i in range(samples)]\n",
    "# dataset_labels = [torch.Tensor([i % 3]) for i in range(samples)]\n",
    "dataset, dataset_labels = load_dataset('dataset.csv')\n",
    "print(dataset)\n",
    "print(dataset_labels)"
   ],
   "metadata": {
    "collapsed": false
   }
  },
  {
   "cell_type": "code",
   "execution_count": 45,
   "outputs": [],
   "source": [
    "bound = int(len(dataset) * 0.8)\n",
    "train = list(zip(dataset[:bound], dataset_labels[:bound]))\n",
    "test = list(zip(dataset[bound:], dataset_labels[bound:]))"
   ],
   "metadata": {
    "collapsed": false
   }
  },
  {
   "cell_type": "code",
   "execution_count": 46,
   "outputs": [],
   "source": [
    "num_epochs = 10\n",
    "device = torch.device('cuda' if torch.cuda.is_available() else 'cpu')\n",
    "\n",
    "# Train the model\n",
    "total_step = len(train)\n",
    "for epoch in range(num_epochs):\n",
    "    for i, (image, label) in enumerate(train):\n",
    "        # Move tensors to the configured device\n",
    "        image = image.to(device)\n",
    "        label = label.to(device)\n",
    "\n",
    "        # Forward pass\n",
    "        outputs = model(image)\n",
    "        loss = criterion(outputs, label)\n",
    "\n",
    "        # Backpropagation and optimization\n",
    "        optimizer.zero_grad()\n",
    "        loss.backward()\n",
    "        optimizer.step()\n",
    "\n",
    "        if (i + 1) % 100 == 0:\n",
    "            print ('Epoch [{}/{}], Step [{}/{}], Loss: {:.4f}'\n",
    "                   .format(epoch + 1, num_epochs, i + 1, total_step, loss.item()))"
   ],
   "metadata": {
    "collapsed": false
   }
  },
  {
   "cell_type": "code",
   "execution_count": 47,
   "outputs": [
    {
     "name": "stdout",
     "output_type": "stream",
     "text": [
      "Accuracy of the network on the 2 test images: 100.0 %\n"
     ]
    }
   ],
   "source": [
    "# Test the model\n",
    "# In the test phase, don't need to compute gradients (for memory efficiency)\n",
    "with torch.no_grad():\n",
    "    correct = 0\n",
    "    total = 0\n",
    "    for image, label in test:\n",
    "        image = image.to(device)\n",
    "        label = label.to(device)\n",
    "        outputs = model(image)\n",
    "        _, predicted = torch.max(outputs.data, 0)\n",
    "        total += label.size(0)\n",
    "        correct += (predicted == label).item()\n",
    "\n",
    "    print(f'Accuracy of the network on the {len(test)} test images: {100 * correct / total} %')"
   ],
   "metadata": {
    "collapsed": false
   }
  },
  {
   "cell_type": "code",
   "execution_count": 111,
   "outputs": [],
   "source": [],
   "metadata": {
    "collapsed": false
   }
  }
 ],
 "metadata": {
  "kernelspec": {
   "display_name": "Python 3",
   "language": "python",
   "name": "python3"
  },
  "language_info": {
   "codemirror_mode": {
    "name": "ipython",
    "version": 2
   },
   "file_extension": ".py",
   "mimetype": "text/x-python",
   "name": "python",
   "nbconvert_exporter": "python",
   "pygments_lexer": "ipython2",
   "version": "2.7.6"
  }
 },
 "nbformat": 4,
 "nbformat_minor": 0
}
