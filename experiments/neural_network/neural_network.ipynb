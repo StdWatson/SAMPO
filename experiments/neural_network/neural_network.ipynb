{
 "cells": [
  {
   "cell_type": "code",
   "execution_count": 59,
   "metadata": {
    "collapsed": true
   },
   "outputs": [],
   "source": [
    "import torch\n",
    "\n",
    "from torch import nn\n",
    "from torch.autograd import Variable"
   ]
  },
  {
   "cell_type": "code",
   "execution_count": 60,
   "outputs": [],
   "source": [
    "input_parameters = 5\n",
    "layer_size = 5\n",
    "layer_count = 3\n",
    "classification_size = 1\n",
    "learning_rate = 0.001"
   ],
   "metadata": {
    "collapsed": false
   }
  },
  {
   "cell_type": "code",
   "execution_count": 61,
   "outputs": [],
   "source": [
    "graph_stat = Variable(torch.ones(input_parameters, layer_size))"
   ],
   "metadata": {
    "collapsed": false
   }
  },
  {
   "cell_type": "code",
   "execution_count": 62,
   "outputs": [],
   "source": [
    "class NeuralNet(nn.Module):\n",
    "    def __init__(self):\n",
    "        super(NeuralNet, self).__init__()\n",
    "        self.linear0 = torch.nn.Linear(layer_size, layer_size)\n",
    "        self.linear1 = torch.nn.Linear(layer_size, layer_size)\n",
    "        self.linear2 = torch.nn.Linear(layer_size, classification_size)\n",
    "\n",
    "    def forward(self, x):\n",
    "        x = self.linear0(x)\n",
    "        x = self.linear1(x)\n",
    "        x = self.linear2(x)\n",
    "        return x"
   ],
   "metadata": {
    "collapsed": false
   }
  },
  {
   "cell_type": "code",
   "execution_count": 63,
   "outputs": [
    {
     "data": {
      "text/plain": "tensor([[0.4515],\n        [0.4515],\n        [0.4515],\n        [0.4515],\n        [0.4515]], grad_fn=<AddmmBackward0>)"
     },
     "execution_count": 63,
     "metadata": {},
     "output_type": "execute_result"
    }
   ],
   "source": [
    "model = NeuralNet()\n",
    "\n",
    "result = model(graph_stat)\n",
    "result"
   ],
   "metadata": {
    "collapsed": false
   }
  },
  {
   "cell_type": "code",
   "execution_count": 64,
   "outputs": [],
   "source": [
    "criterion = torch.nn.CrossEntropyLoss()\n",
    "optimizer = torch.optim.Adam(model.parameters(), lr=learning_rate)"
   ],
   "metadata": {
    "collapsed": false
   }
  },
  {
   "cell_type": "code",
   "execution_count": 65,
   "outputs": [
    {
     "name": "stdout",
     "output_type": "stream",
     "text": [
      "[tensor([41.,  1., 24.,  1., 27.]), tensor([150.,   1.,  60.,   1.,  42.]), tensor([129.,   1.,  42.,   1.,  48.]), tensor([131.,   1.,  40.,   1.,  52.]), tensor([198.,   1.,  64.,   1.,  40.]), tensor([129.,   1.,  42.,   1.,  58.]), tensor([139.,   1.,  46.,   1.,  64.]), tensor([46.,  1., 27.,  1., 32.]), tensor([141.,   1.,  42.,   1.,  59.]), tensor([135.,   1.,  43.,   1.,  58.]), tensor([131.,   1.,  36.,   1.,  52.]), tensor([40.,  1., 24.,  1., 26.]), tensor([151.,   1.,  45.,   1.,  63.]), tensor([117.,   1.,  34.,   1.,  45.]), tensor([40.,  1., 23.,  1., 26.]), tensor([131.,   1.,  44.,   1.,  57.]), tensor([44.,  1., 26.,  1., 30.]), tensor([115.,   1.,  42.,   1.,  45.]), tensor([143.,   1.,  43.,   1.,  55.]), tensor([38.,  1., 24.,  1., 24.]), tensor([131.,   1.,  41.,   1.,  57.]), tensor([139.,   1.,  41.,   1.,  54.]), tensor([129.,   1.,  43.,   1.,  58.]), tensor([113.,   1.,  37.,   1.,  47.]), tensor([41.,  1., 28.,  1., 27.]), tensor([141.,   1.,  48.,   1.,  62.]), tensor([126.,   1.,  41.,   1.,  54.]), tensor([168.,   1.,  62.,   1.,  53.]), tensor([138.,   1.,  46.,   1.,  54.]), tensor([136.,   1.,  44.,   1.,  51.]), tensor([189.,   1.,  82.,   1.,  56.]), tensor([38.,  1., 24.,  1., 24.]), tensor([131.,   1.,  42.,   1.,  58.]), tensor([126.,   1.,  50.,   1.,  61.]), tensor([129.,   1.,  39.,   1.,  56.]), tensor([192.,   1.,  60.,   1.,  51.]), tensor([108.,   1.,  43.,   1.,  46.]), tensor([111.,   1.,  32.,   1.,  50.]), tensor([135.,   1.,  47.,   1.,  54.]), tensor([114.,   1.,  36.,   1.,  44.]), tensor([120.,   1.,  44.,   1.,  50.]), tensor([116.,   1.,  35.,   1.,  43.]), tensor([240.,   1.,  86.,   1.,  56.]), tensor([165.,   1.,  86.,   1.,  45.]), tensor([39.,  1., 25.,  1., 25.]), tensor([123.,   1.,  41.,   1.,  58.]), tensor([40.,  1., 26.,  1., 26.]), tensor([148.,   1.,  48.,   1.,  61.]), tensor([193.,   1.,  86.,   1.,  50.]), tensor([132.,   1.,  42.,   1.,  57.]), tensor([188.,   1.,  78.,   1.,  52.]), tensor([188.,   1.,  84.,   1.,  51.]), tensor([106.,   1.,  39.,   1.,  45.]), tensor([36.,  1., 25.,  1., 22.]), tensor([145.,   1.,  45.,   1.,  61.]), tensor([119.,   1.,  37.,   1.,  47.]), tensor([127.,   1.,  33.,   1.,  47.]), tensor([124.,   1.,  42.,   1.,  47.]), tensor([39.,  1., 24.,  1., 25.]), tensor([45.,  1., 27.,  1., 31.]), tensor([111.,   1.,  37.,   1.,  41.]), tensor([131.,   1.,  45.,   1.,  58.]), tensor([114.,   1.,  39.,   1.,  44.]), tensor([180.,   1.,  64.,   1.,  59.]), tensor([164.,   1.,  64.,   1.,  47.]), tensor([191.,   1.,  68.,   1.,  51.]), tensor([137.,   1.,  44.,   1.,  58.]), tensor([140.,   1.,  38.,   1.,  53.]), tensor([135.,   1.,  46.,   1.,  54.]), tensor([123.,   1.,  35.,   1.,  46.]), tensor([184.,   1.,  80.,   1.,  48.]), tensor([196.,   1.,  66.,   1.,  53.]), tensor([110.,   1.,  33.,   1.,  50.]), tensor([149.,   1.,  50.,   1.,  48.]), tensor([133.,   1.,  38.,   1.,  50.]), tensor([185.,   1.,  80.,   1.,  50.]), tensor([111.,   1.,  39.,   1.,  44.]), tensor([37.,  1., 23.,  1., 23.]), tensor([138.,   1.,  47.,   1.,  53.]), tensor([44.,  1., 26.,  1., 30.]), tensor([204.,   1.,  74.,   1.,  55.]), tensor([44.,  1., 25.,  1., 30.]), tensor([181.,   1.,  72.,   1.,  50.]), tensor([183.,   1.,  76.,   1.,  62.]), tensor([113.,   1.,  40.,   1.,  46.]), tensor([123.,   1.,  45.,   1.,  49.]), tensor([196.,   1.,  78.,   1.,  56.]), tensor([127.,   1.,  47.,   1.,  59.]), tensor([106.,   1.,  38.,   1.,  40.]), tensor([113.,   1.,  38.,   1.,  47.]), tensor([188.,   1.,  82.,   1.,  55.]), tensor([137.,   1.,  44.,   1.,  53.]), tensor([138.,   1.,  41.,   1.,  52.]), tensor([168.,   1.,  68.,   1.,  44.]), tensor([204.,   1.,  86.,   1.,  55.]), tensor([37.,  1., 25.,  1., 23.]), tensor([125.,   1.,  41.,   1.,  53.]), tensor([224.,   1.,  88.,   1.,  61.]), tensor([117.,   1.,  38.,   1.,  44.]), tensor([39.,  1., 26.,  1., 25.]), tensor([132.,   1.,  41.,   1.,  49.]), tensor([143.,   1.,  54.,   1.,  43.]), tensor([123.,   1.,  40.,   1.,  54.]), tensor([185.,   1.,  92.,   1.,  52.]), tensor([42.,  1., 25.,  1., 28.]), tensor([35.,  1., 21.,  1., 21.]), tensor([127.,   1.,  44.,   1.,  57.]), tensor([39.,  1., 23.,  1., 25.]), tensor([43.,  1., 26.,  1., 29.]), tensor([169.,   1.,  66.,   1.,  54.]), tensor([197.,   1.,  82.,   1.,  57.]), tensor([117.,   1.,  35.,   1.,  42.]), tensor([130.,   1.,  39.,   1.,  54.]), tensor([149.,   1.,  46.,   1.,  62.]), tensor([114.,   1.,  35.,   1.,  45.]), tensor([139.,   1.,  62.,   1.,  35.]), tensor([114.,   1.,  34.,   1.,  46.]), tensor([193.,   1.,  80.,   1.,  56.]), tensor([187.,   1.,  84.,   1.,  49.]), tensor([42.,  1., 26.,  1., 28.]), tensor([36.,  1., 23.,  1., 22.]), tensor([40.,  1., 27.,  1., 26.]), tensor([130.,   1.,  39.,   1.,  54.]), tensor([179.,   1.,  74.,   1.,  47.]), tensor([144.,   1.,  40.,   1.,  56.]), tensor([127.,   1.,  40.,   1.,  47.]), tensor([129.,   1.,  42.,   1.,  53.]), tensor([40.,  1., 27.,  1., 26.]), tensor([166.,   1.,  74.,   1.,  45.]), tensor([203.,   1.,  78.,   1.,  56.]), tensor([33.,  1., 22.,  1., 19.]), tensor([167.,   1.,  74.,   1.,  48.]), tensor([124.,   1.,  43.,   1.,  48.]), tensor([205.,   1.,  88.,   1.,  56.]), tensor([196.,   1.,  72.,   1.,  41.]), tensor([212.,   1.,  80.,   1.,  57.]), tensor([123.,   1.,  38.,   1.,  50.]), tensor([38.,  1., 26.,  1., 24.]), tensor([200.,   1.,  88.,   1.,  60.]), tensor([140.,   1.,  49.,   1.,  61.]), tensor([41.,  1., 25.,  1., 27.]), tensor([38.,  1., 22.,  1., 24.]), tensor([146.,   1.,  52.,   1.,  49.]), tensor([145.,   1.,  46.,   1.,  63.]), tensor([126.,   1.,  38.,   1.,  46.]), tensor([33.,  1., 22.,  1., 19.]), tensor([32.,  1., 21.,  1., 18.]), tensor([118.,   1.,  38.,   1.,  54.]), tensor([225.,   1.,  60.,   1.,  47.]), tensor([148.,   1.,  45.,   1.,  60.]), tensor([188.,   1.,  78.,   1.,  55.]), tensor([130.,   1.,  44.,   1.,  60.]), tensor([166.,   1.,  66.,   1.,  49.]), tensor([118.,   1.,  38.,   1.,  49.]), tensor([155.,   1.,  60.,   1.,  45.]), tensor([38.,  1., 24.,  1., 24.]), tensor([176.,   1.,  84.,   1.,  48.]), tensor([180.,   1.,  80.,   1.,  49.]), tensor([123.,   1.,  44.,   1.,  51.]), tensor([168.,   1.,  64.,   1.,  61.]), tensor([135.,   1.,  44.,   1.,  58.]), tensor([123.,   1.,  38.,   1.,  48.]), tensor([37.,  1., 24.,  1., 23.]), tensor([119.,   1.,  37.,   1.,  44.]), tensor([151.,   1.,  54.,   1.,  44.]), tensor([40.,  1., 24.,  1., 26.]), tensor([149.,   1.,  49.,   1.,  62.]), tensor([33.,  1., 22.,  1., 19.]), tensor([114.,   1.,  34.,   1.,  43.]), tensor([195.,   1.,  64.,   1.,  54.]), tensor([125.,   1.,  44.,   1.,  49.]), tensor([242.,   1.,  94.,   1.,  58.]), tensor([163.,   1.,  62.,   1.,  43.]), tensor([210.,   1.,  88.,   1.,  55.]), tensor([126.,   1.,  39.,   1.,  48.]), tensor([124.,   1.,  42.,   1.,  50.]), tensor([42.,  1., 27.,  1., 28.]), tensor([202.,   1.,  92.,   1.,  60.]), tensor([167.,   1.,  72.,   1.,  48.]), tensor([39.,  1., 26.,  1., 25.]), tensor([156.,   1.,  68.,   1.,  45.]), tensor([174.,   1.,  60.,   1.,  59.]), tensor([43.,  1., 26.,  1., 29.]), tensor([134.,   1.,  41.,   1.,  57.]), tensor([127.,   1.,  45.,   1.,  50.]), tensor([189.,   1.,  68.,   1.,  58.]), tensor([133.,   1.,  40.,   1.,  56.]), tensor([123.,   1.,  43.,   1.,  60.]), tensor([134.,   1.,  58.,   1.,  33.]), tensor([38.,  1., 23.,  1., 24.]), tensor([40.,  1., 26.,  1., 26.]), tensor([36.,  1., 24.,  1., 22.]), tensor([136.,   1.,  42.,   1.,  53.]), tensor([173.,   1.,  78.,   1.,  48.]), tensor([130.,   1.,  40.,   1.,  56.]), tensor([202.,   1.,  62.,   1.,  57.]), tensor([191.,   1.,  84.,   1.,  52.]), tensor([133.,   1.,  42.,   1.,  51.]), tensor([119.,   1.,  45.,   1.,  54.]), tensor([129.,   1.,  42.,   1.,  49.])]\n",
      "[tensor([0.]), tensor([1.]), tensor([0.]), tensor([0.]), tensor([1.]), tensor([0.]), tensor([0.]), tensor([0.]), tensor([0.]), tensor([0.]), tensor([0.]), tensor([0.]), tensor([0.]), tensor([0.]), tensor([0.]), tensor([1.]), tensor([0.]), tensor([0.]), tensor([0.]), tensor([2.]), tensor([0.]), tensor([0.]), tensor([0.]), tensor([0.]), tensor([0.]), tensor([0.]), tensor([0.]), tensor([0.]), tensor([0.]), tensor([0.]), tensor([0.]), tensor([0.]), tensor([0.]), tensor([0.]), tensor([0.]), tensor([2.]), tensor([0.]), tensor([1.]), tensor([1.]), tensor([0.]), tensor([0.]), tensor([0.]), tensor([0.]), tensor([0.]), tensor([0.]), tensor([0.]), tensor([0.]), tensor([1.]), tensor([2.]), tensor([0.]), tensor([2.]), tensor([0.]), tensor([0.]), tensor([0.]), tensor([0.]), tensor([0.]), tensor([0.]), tensor([1.]), tensor([0.]), tensor([0.]), tensor([0.]), tensor([0.]), tensor([0.]), tensor([0.]), tensor([1.]), tensor([1.]), tensor([0.]), tensor([0.]), tensor([0.]), tensor([0.]), tensor([0.]), tensor([1.]), tensor([0.]), tensor([0.]), tensor([0.]), tensor([2.]), tensor([0.]), tensor([0.]), tensor([0.]), tensor([0.]), tensor([2.]), tensor([0.]), tensor([2.]), tensor([0.]), tensor([0.]), tensor([0.]), tensor([0.]), tensor([0.]), tensor([0.]), tensor([0.]), tensor([1.]), tensor([0.]), tensor([0.]), tensor([0.]), tensor([1.]), tensor([0.]), tensor([0.]), tensor([1.]), tensor([0.]), tensor([0.]), tensor([0.]), tensor([1.]), tensor([0.]), tensor([0.]), tensor([0.]), tensor([0.]), tensor([0.]), tensor([0.]), tensor([0.]), tensor([0.]), tensor([0.]), tensor([0.]), tensor([0.]), tensor([1.]), tensor([0.]), tensor([0.]), tensor([1.]), tensor([0.]), tensor([0.]), tensor([0.]), tensor([0.]), tensor([0.]), tensor([0.]), tensor([0.]), tensor([0.]), tensor([0.]), tensor([0.]), tensor([0.]), tensor([0.]), tensor([1.]), tensor([0.]), tensor([0.]), tensor([0.]), tensor([0.]), tensor([1.]), tensor([1.]), tensor([0.]), tensor([0.]), tensor([0.]), tensor([0.]), tensor([0.]), tensor([0.]), tensor([0.]), tensor([0.]), tensor([1.]), tensor([0.]), tensor([0.]), tensor([0.]), tensor([0.]), tensor([0.]), tensor([0.]), tensor([2.]), tensor([0.]), tensor([0.]), tensor([0.]), tensor([0.]), tensor([0.]), tensor([0.]), tensor([0.]), tensor([0.]), tensor([0.]), tensor([0.]), tensor([0.]), tensor([0.]), tensor([0.]), tensor([0.]), tensor([0.]), tensor([0.]), tensor([0.]), tensor([1.]), tensor([0.]), tensor([0.]), tensor([0.]), tensor([0.]), tensor([0.]), tensor([0.]), tensor([0.]), tensor([0.]), tensor([0.]), tensor([0.]), tensor([1.]), tensor([0.]), tensor([0.]), tensor([0.]), tensor([0.]), tensor([0.]), tensor([0.]), tensor([0.]), tensor([1.]), tensor([0.]), tensor([0.]), tensor([0.]), tensor([0.]), tensor([1.]), tensor([1.]), tensor([1.]), tensor([0.]), tensor([0.]), tensor([0.]), tensor([0.])]\n"
     ]
    }
   ],
   "source": [
    "import pandas\n",
    "from pandas import DataFrame\n",
    "\n",
    "\n",
    "def load_dataset(filename: str) -> tuple[list, list]:\n",
    "    df = pandas.read_csv(filename)\n",
    "    df.reset_index()\n",
    "    return [torch.Tensor(v) for v in df.drop('label', axis=1).to_numpy()[:, 1:]], \\\n",
    "           [torch.Tensor([v]) for v in df['label'].to_numpy()]\n",
    "\n",
    "def f(i, j) -> list[float]:\n",
    "    return i * 10 + j * j\n",
    "\n",
    "# dataset = [torch.Tensor([f(i, j) for j in range(input_parameters)]) + torch.randn(input_parameters) for i in range(samples)]\n",
    "# dataset_labels = [torch.Tensor([i % 3]) for i in range(samples)]\n",
    "dataset, dataset_labels = load_dataset('dataset.csv')\n",
    "print(dataset)\n",
    "print(dataset_labels)"
   ],
   "metadata": {
    "collapsed": false
   }
  },
  {
   "cell_type": "code",
   "execution_count": 66,
   "outputs": [],
   "source": [
    "bound = int(len(dataset) * 0.8)\n",
    "train = list(zip(dataset[:bound], dataset_labels[:bound]))\n",
    "test = list(zip(dataset[bound:], dataset_labels[bound:]))"
   ],
   "metadata": {
    "collapsed": false
   }
  },
  {
   "cell_type": "code",
   "execution_count": 67,
   "outputs": [
    {
     "name": "stdout",
     "output_type": "stream",
     "text": [
      "Epoch [1/10], Step [100/160], Loss: -0.0000\n",
      "Epoch [2/10], Step [100/160], Loss: -0.0000\n",
      "Epoch [3/10], Step [100/160], Loss: -0.0000\n",
      "Epoch [4/10], Step [100/160], Loss: -0.0000\n",
      "Epoch [5/10], Step [100/160], Loss: -0.0000\n",
      "Epoch [6/10], Step [100/160], Loss: -0.0000\n",
      "Epoch [7/10], Step [100/160], Loss: -0.0000\n",
      "Epoch [8/10], Step [100/160], Loss: -0.0000\n",
      "Epoch [9/10], Step [100/160], Loss: -0.0000\n",
      "Epoch [10/10], Step [100/160], Loss: -0.0000\n"
     ]
    }
   ],
   "source": [
    "num_epochs = 10\n",
    "device = torch.device('cuda' if torch.cuda.is_available() else 'cpu')\n",
    "\n",
    "# Train the model\n",
    "total_step = len(train)\n",
    "for epoch in range(num_epochs):\n",
    "    for i, (image, label) in enumerate(train):\n",
    "        # Move tensors to the configured device\n",
    "        image = image.to(device)\n",
    "        label = label.to(device)\n",
    "\n",
    "        # Forward pass\n",
    "        outputs = model(image)\n",
    "        loss = criterion(outputs, label)\n",
    "\n",
    "        # Backpropagation and optimization\n",
    "        optimizer.zero_grad()\n",
    "        loss.backward()\n",
    "        optimizer.step()\n",
    "\n",
    "        if (i + 1) % 100 == 0:\n",
    "            print ('Epoch [{}/{}], Step [{}/{}], Loss: {:.4f}'\n",
    "                   .format(epoch + 1, num_epochs, i + 1, total_step, loss.item()))"
   ],
   "metadata": {
    "collapsed": false
   }
  },
  {
   "cell_type": "code",
   "execution_count": 68,
   "outputs": [
    {
     "name": "stdout",
     "output_type": "stream",
     "text": [
      "Accuracy of the network on the 40 test images: 85.0 %\n"
     ]
    }
   ],
   "source": [
    "# Test the model\n",
    "# In the test phase, don't need to compute gradients (for memory efficiency)\n",
    "with torch.no_grad():\n",
    "    correct = 0\n",
    "    total = 0\n",
    "    for image, label in test:\n",
    "        image = image.to(device)\n",
    "        label = label.to(device)\n",
    "        outputs = model(image)\n",
    "        _, predicted = torch.max(outputs.data, 0)\n",
    "        total += label.size(0)\n",
    "        correct += (predicted == label).item()\n",
    "\n",
    "    print(f'Accuracy of the network on the {len(test)} test images: {100 * correct / total} %')"
   ],
   "metadata": {
    "collapsed": false
   }
  },
  {
   "cell_type": "code",
   "execution_count": 111,
   "outputs": [],
   "source": [],
   "metadata": {
    "collapsed": false
   }
  }
 ],
 "metadata": {
  "kernelspec": {
   "display_name": "Python 3",
   "language": "python",
   "name": "python3"
  },
  "language_info": {
   "codemirror_mode": {
    "name": "ipython",
    "version": 2
   },
   "file_extension": ".py",
   "mimetype": "text/x-python",
   "name": "python",
   "nbconvert_exporter": "python",
   "pygments_lexer": "ipython2",
   "version": "2.7.6"
  }
 },
 "nbformat": 4,
 "nbformat_minor": 0
}
