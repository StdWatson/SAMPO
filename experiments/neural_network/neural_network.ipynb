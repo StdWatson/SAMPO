{
 "cells": [
  {
   "cell_type": "code",
   "execution_count": 34,
   "outputs": [],
   "source": [
    "input_parameters = 5\n",
    "layer_size = 5\n",
    "layer_count = 3\n",
    "classification_size = 3\n",
    "learning_rate = 0.001"
   ],
   "metadata": {
    "collapsed": false
   }
  },
  {
   "cell_type": "code",
   "execution_count": 35,
   "outputs": [
    {
     "data": {
      "text/plain": "[Parameter containing:\n tensor([[ 0.0792, -0.0727,  0.1207, -0.4239, -0.0794],\n         [ 0.1012, -0.3573, -0.1253, -0.3287,  0.0745],\n         [ 0.3024, -0.0999, -0.3640, -0.2334, -0.3335],\n         [ 0.0758,  0.2433, -0.1252,  0.1163,  0.0963],\n         [-0.2260, -0.0315, -0.4085,  0.4144, -0.1720]], requires_grad=True),\n Parameter containing:\n tensor([ 0.1337, -0.3363, -0.2376,  0.1510,  0.3093], requires_grad=True)]"
     },
     "execution_count": 35,
     "metadata": {},
     "output_type": "execute_result"
    }
   ],
   "source": [
    "from sampo.scheduler.selection.neural_net import NeuralNet, load_dataset\n",
    "\n",
    "model = NeuralNet(input_parameters, layer_size, layer_count, classification_size)\n",
    "list(model.parameters())"
   ],
   "metadata": {
    "collapsed": false
   }
  },
  {
   "cell_type": "code",
   "execution_count": 36,
   "outputs": [
    {
     "name": "stdout",
     "output_type": "stream",
     "text": [
      "Epoch [1/100], Step [100/112], Loss: 0.6948\n",
      "Epoch [2/100], Step [100/112], Loss: 0.6924\n",
      "Epoch [3/100], Step [100/112], Loss: 0.6251\n",
      "Epoch [4/100], Step [100/112], Loss: 0.6026\n",
      "Epoch [5/100], Step [100/112], Loss: 0.5942\n",
      "Epoch [6/100], Step [100/112], Loss: 0.6335\n",
      "Epoch [7/100], Step [100/112], Loss: 0.6131\n",
      "Epoch [8/100], Step [100/112], Loss: 0.5823\n",
      "Epoch [9/100], Step [100/112], Loss: 0.5915\n",
      "Epoch [10/100], Step [100/112], Loss: 0.5821\n",
      "Epoch [11/100], Step [100/112], Loss: 0.5851\n",
      "Epoch [12/100], Step [100/112], Loss: 0.5859\n",
      "Epoch [13/100], Step [100/112], Loss: 0.5863\n",
      "Epoch [14/100], Step [100/112], Loss: 0.5836\n",
      "Epoch [15/100], Step [100/112], Loss: 0.5834\n",
      "Epoch [16/100], Step [100/112], Loss: 0.5874\n",
      "Epoch [17/100], Step [100/112], Loss: 0.5875\n",
      "Epoch [18/100], Step [100/112], Loss: 0.5916\n",
      "Epoch [19/100], Step [100/112], Loss: 0.5833\n",
      "Epoch [20/100], Step [100/112], Loss: 0.5823\n",
      "Epoch [21/100], Step [100/112], Loss: 0.5822\n",
      "Epoch [22/100], Step [100/112], Loss: 0.5883\n",
      "Epoch [23/100], Step [100/112], Loss: 0.5828\n",
      "Epoch [24/100], Step [100/112], Loss: 0.5805\n",
      "Epoch [25/100], Step [100/112], Loss: 0.5861\n",
      "Epoch [26/100], Step [100/112], Loss: 0.5820\n",
      "Epoch [27/100], Step [100/112], Loss: 0.5789\n",
      "Epoch [28/100], Step [100/112], Loss: 0.5821\n",
      "Epoch [29/100], Step [100/112], Loss: 0.5835\n",
      "Epoch [30/100], Step [100/112], Loss: 0.5811\n",
      "Epoch [31/100], Step [100/112], Loss: 0.5829\n",
      "Epoch [32/100], Step [100/112], Loss: 0.5820\n",
      "Epoch [33/100], Step [100/112], Loss: 0.5805\n",
      "Epoch [34/100], Step [100/112], Loss: 0.5822\n",
      "Epoch [35/100], Step [100/112], Loss: 0.5813\n",
      "Epoch [36/100], Step [100/112], Loss: 0.5809\n",
      "Epoch [37/100], Step [100/112], Loss: 0.5807\n",
      "Epoch [38/100], Step [100/112], Loss: 0.5805\n",
      "Epoch [39/100], Step [100/112], Loss: 0.5804\n",
      "Epoch [40/100], Step [100/112], Loss: 0.5803\n",
      "Epoch [41/100], Step [100/112], Loss: 0.5783\n",
      "Epoch [42/100], Step [100/112], Loss: 0.5811\n",
      "Epoch [43/100], Step [100/112], Loss: 0.5815\n",
      "Epoch [44/100], Step [100/112], Loss: 0.5799\n",
      "Epoch [45/100], Step [100/112], Loss: 0.5774\n",
      "Epoch [46/100], Step [100/112], Loss: 0.5776\n",
      "Epoch [47/100], Step [100/112], Loss: 0.5770\n",
      "Epoch [48/100], Step [100/112], Loss: 0.5742\n",
      "Epoch [49/100], Step [100/112], Loss: 0.5761\n",
      "Epoch [50/100], Step [100/112], Loss: 0.5782\n",
      "Epoch [51/100], Step [100/112], Loss: 0.5789\n",
      "Epoch [52/100], Step [100/112], Loss: 0.5784\n",
      "Epoch [53/100], Step [100/112], Loss: 0.5758\n",
      "Epoch [54/100], Step [100/112], Loss: 0.5776\n",
      "Epoch [55/100], Step [100/112], Loss: 0.5780\n",
      "Epoch [56/100], Step [100/112], Loss: 0.5746\n",
      "Epoch [57/100], Step [100/112], Loss: 0.5739\n",
      "Epoch [58/100], Step [100/112], Loss: 0.5765\n",
      "Epoch [59/100], Step [100/112], Loss: 0.5750\n",
      "Epoch [60/100], Step [100/112], Loss: 0.5767\n",
      "Epoch [61/100], Step [100/112], Loss: 0.5749\n",
      "Epoch [62/100], Step [100/112], Loss: 0.5742\n",
      "Epoch [63/100], Step [100/112], Loss: 0.5763\n",
      "Epoch [64/100], Step [100/112], Loss: 0.5748\n",
      "Epoch [65/100], Step [100/112], Loss: 0.5742\n",
      "Epoch [66/100], Step [100/112], Loss: 0.5761\n",
      "Epoch [67/100], Step [100/112], Loss: 0.5771\n",
      "Epoch [68/100], Step [100/112], Loss: 0.5738\n",
      "Epoch [69/100], Step [100/112], Loss: 0.5734\n",
      "Epoch [70/100], Step [100/112], Loss: 0.5753\n",
      "Epoch [71/100], Step [100/112], Loss: 0.5730\n",
      "Epoch [72/100], Step [100/112], Loss: 0.5758\n",
      "Epoch [73/100], Step [100/112], Loss: 0.5758\n",
      "Epoch [74/100], Step [100/112], Loss: 0.5728\n",
      "Epoch [75/100], Step [100/112], Loss: 0.5749\n",
      "Epoch [76/100], Step [100/112], Loss: 0.5727\n",
      "Epoch [77/100], Step [100/112], Loss: 0.5753\n",
      "Epoch [78/100], Step [100/112], Loss: 0.5731\n",
      "Epoch [79/100], Step [100/112], Loss: 0.5755\n",
      "Epoch [80/100], Step [100/112], Loss: 0.5730\n",
      "Epoch [81/100], Step [100/112], Loss: 0.5723\n",
      "Epoch [82/100], Step [100/112], Loss: 0.5745\n",
      "Epoch [83/100], Step [100/112], Loss: 0.5727\n",
      "Epoch [84/100], Step [100/112], Loss: 0.5746\n",
      "Epoch [85/100], Step [100/112], Loss: 0.5732\n",
      "Epoch [86/100], Step [100/112], Loss: 0.5752\n",
      "Epoch [87/100], Step [100/112], Loss: 0.5720\n",
      "Epoch [88/100], Step [100/112], Loss: 0.5753\n",
      "Epoch [89/100], Step [100/112], Loss: 0.5715\n",
      "Epoch [90/100], Step [100/112], Loss: 0.5739\n",
      "Epoch [91/100], Step [100/112], Loss: 0.5718\n",
      "Epoch [92/100], Step [100/112], Loss: 0.5718\n",
      "Epoch [93/100], Step [100/112], Loss: 0.5745\n",
      "Epoch [94/100], Step [100/112], Loss: 0.5712\n",
      "Epoch [95/100], Step [100/112], Loss: 0.5715\n",
      "Epoch [96/100], Step [100/112], Loss: 0.5716\n",
      "Epoch [97/100], Step [100/112], Loss: 0.5744\n",
      "Epoch [98/100], Step [100/112], Loss: 0.5712\n",
      "Epoch [99/100], Step [100/112], Loss: 0.5735\n",
      "Epoch [100/100], Step [100/112], Loss: 0.5719\n"
     ]
    },
    {
     "data": {
      "text/plain": "[Parameter containing:\n tensor([[ 0.0516, -0.1037,  0.0933, -0.4543, -0.1068],\n         [ 0.1026, -0.6941, -0.0512, -0.5348,  0.1486],\n         [ 0.3446, -0.1807, -0.4110, -0.2648, -0.3805],\n         [ 0.0769,  0.2761, -0.1604,  0.0302,  0.0611],\n         [-0.2260, -0.0315, -0.4085,  0.4144, -0.1720]], requires_grad=True),\n Parameter containing:\n tensor([ 0.1041, -0.3961, -0.2802, -0.0536,  0.3093], requires_grad=True)]"
     },
     "execution_count": 36,
     "metadata": {},
     "output_type": "execute_result"
    }
   ],
   "source": [
    "# for i in range(10):\n",
    "#     print(f'Loop {i}/10')\n",
    "x_train, x_test, y_train, y_test = load_dataset('dataset.csv')\n",
    "model.fit(x_train, y_train, 100)\n",
    "list(model.parameters())"
   ],
   "metadata": {
    "collapsed": false
   }
  },
  {
   "cell_type": "code",
   "execution_count": 37,
   "outputs": [
    {
     "data": {
      "text/plain": "[tensor([0., 1., 0.]),\n tensor([1., 0., 0.]),\n tensor([0., 0., 1.]),\n tensor([0., 1., 0.]),\n tensor([1., 0., 0.]),\n tensor([1., 0., 0.]),\n tensor([1., 0., 0.]),\n tensor([1., 0., 0.]),\n tensor([0., 1., 0.]),\n tensor([1., 0., 0.]),\n tensor([1., 0., 0.]),\n tensor([0., 0., 1.]),\n tensor([1., 0., 0.]),\n tensor([0., 0., 1.]),\n tensor([0., 0., 1.]),\n tensor([0., 1., 0.]),\n tensor([1., 0., 0.]),\n tensor([0., 1., 0.]),\n tensor([0., 1., 0.]),\n tensor([0., 1., 0.]),\n tensor([0., 1., 0.]),\n tensor([0., 0., 1.]),\n tensor([1., 0., 0.]),\n tensor([0., 1., 0.]),\n tensor([1., 0., 0.]),\n tensor([1., 0., 0.]),\n tensor([0., 0., 1.]),\n tensor([0., 0., 1.]),\n tensor([0., 0., 1.]),\n tensor([0., 0., 1.]),\n tensor([0., 1., 0.]),\n tensor([0., 1., 0.]),\n tensor([0., 0., 1.]),\n tensor([0., 1., 0.]),\n tensor([0., 0., 1.]),\n tensor([1., 0., 0.]),\n tensor([0., 0., 1.]),\n tensor([0., 0., 1.])]"
     },
     "execution_count": 37,
     "metadata": {},
     "output_type": "execute_result"
    }
   ],
   "source": [
    "y_test"
   ],
   "metadata": {
    "collapsed": false
   }
  },
  {
   "cell_type": "code",
   "execution_count": 38,
   "outputs": [
    {
     "name": "stdout",
     "output_type": "stream",
     "text": [
      "Accuracy of the network on the 38 test images: 52.63157894736842 %\n"
     ]
    }
   ],
   "source": [
    "model.test_accuracy(x_test, y_test)"
   ],
   "metadata": {
    "collapsed": false
   }
  },
  {
   "cell_type": "code",
   "execution_count": 111,
   "outputs": [],
   "source": [],
   "metadata": {
    "collapsed": false
   }
  }
 ],
 "metadata": {
  "kernelspec": {
   "display_name": "Python 3",
   "language": "python",
   "name": "python3"
  },
  "language_info": {
   "codemirror_mode": {
    "name": "ipython",
    "version": 2
   },
   "file_extension": ".py",
   "mimetype": "text/x-python",
   "name": "python",
   "nbconvert_exporter": "python",
   "pygments_lexer": "ipython2",
   "version": "2.7.6"
  }
 },
 "nbformat": 4,
 "nbformat_minor": 0
}
