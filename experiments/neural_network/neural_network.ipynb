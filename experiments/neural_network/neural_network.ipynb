{
 "cells": [
  {
   "cell_type": "code",
   "execution_count": 1,
   "outputs": [],
   "source": [
    "input_parameters = 5\n",
    "layer_size = 5\n",
    "layer_count = 3\n",
    "classification_size = 1\n",
    "learning_rate = 0.001"
   ],
   "metadata": {
    "collapsed": false
   }
  },
  {
   "cell_type": "code",
   "execution_count": 2,
   "outputs": [
    {
     "data": {
      "text/plain": "[Parameter containing:\n tensor([[ 0.0414,  0.0603, -0.3219,  0.0097,  0.1543],\n         [-0.2995, -0.0757,  0.3865,  0.1085, -0.4219],\n         [ 0.0128, -0.3057,  0.0685, -0.2311, -0.3050],\n         [ 0.4046, -0.0906,  0.1748, -0.0786, -0.1524],\n         [-0.0929,  0.0178,  0.2213,  0.1402,  0.3720]], requires_grad=True),\n Parameter containing:\n tensor([ 0.4456,  0.1771,  0.0578,  0.3889, -0.1746], requires_grad=True),\n Parameter containing:\n tensor([[ 0.1486, -0.4455, -0.2235,  0.1340,  0.1708],\n         [ 0.2998,  0.1354,  0.1665,  0.2631, -0.0788],\n         [ 0.2861, -0.1199,  0.2173,  0.3836,  0.3629],\n         [-0.1171, -0.0807, -0.1097,  0.2323, -0.2902],\n         [-0.0612,  0.4037,  0.1922,  0.3036,  0.1748]], requires_grad=True),\n Parameter containing:\n tensor([ 0.3037, -0.3993,  0.1500, -0.2690,  0.3524], requires_grad=True),\n Parameter containing:\n tensor([[ 0.3197, -0.3940, -0.2533, -0.2912, -0.2402]], requires_grad=True),\n Parameter containing:\n tensor([-0.0970], requires_grad=True)]"
     },
     "execution_count": 2,
     "metadata": {},
     "output_type": "execute_result"
    }
   ],
   "source": [
    "from sampo.scheduler.selection.neural_net import NeuralNet, load_dataset\n",
    "\n",
    "model = NeuralNet(input_parameters, layer_size, classification_size)\n",
    "list(model.parameters())"
   ],
   "metadata": {
    "collapsed": false
   }
  },
  {
   "cell_type": "code",
   "execution_count": 3,
   "outputs": [
    {
     "name": "stdout",
     "output_type": "stream",
     "text": [
      "Epoch [1/10], Step [100/112], Loss: 10.6684\n",
      "Epoch [2/10], Step [100/112], Loss: 5.0008\n",
      "Epoch [3/10], Step [100/112], Loss: 2.1921\n",
      "Epoch [4/10], Step [100/112], Loss: 0.9420\n",
      "Epoch [5/10], Step [100/112], Loss: 0.4375\n",
      "Epoch [6/10], Step [100/112], Loss: 0.2413\n",
      "Epoch [7/10], Step [100/112], Loss: 0.1647\n",
      "Epoch [8/10], Step [100/112], Loss: 0.1356\n",
      "Epoch [9/10], Step [100/112], Loss: 0.1269\n",
      "Epoch [10/10], Step [100/112], Loss: 0.1275\n"
     ]
    },
    {
     "data": {
      "text/plain": "[Parameter containing:\n tensor([[ 0.0130,  0.0902, -0.3762,  0.0396,  0.2148],\n         [-0.3220, -0.0647,  0.3457,  0.1195, -0.3919],\n         [-0.0090, -0.2978,  0.0285, -0.2231, -0.2797],\n         [ 0.3801, -0.0827,  0.1341, -0.0708, -0.1260],\n         [-0.0721,  0.0009,  0.2687,  0.1233,  0.3335]], requires_grad=True),\n Parameter containing:\n tensor([ 0.4755,  0.1881,  0.0657,  0.3967, -0.1915], requires_grad=True),\n Parameter containing:\n tensor([[ 0.0045, -0.4468, -0.1707,  0.1652,  0.1407],\n         [ 0.4409,  0.1380,  0.1164,  0.2320, -0.0511],\n         [ 0.4291, -0.1171,  0.1659,  0.3517,  0.3921],\n         [ 0.0249, -0.0779, -0.1602,  0.2008, -0.2619],\n         [ 0.0507,  0.4089,  0.1615,  0.2783,  0.1846]], requires_grad=True),\n Parameter containing:\n tensor([ 0.2888, -0.3866,  0.1634, -0.2561,  0.3546], requires_grad=True),\n Parameter containing:\n tensor([[ 0.3237, -0.3369, -0.2367, -0.2583, -0.0735]], requires_grad=True),\n Parameter containing:\n tensor([-0.1115], requires_grad=True)]"
     },
     "execution_count": 3,
     "metadata": {},
     "output_type": "execute_result"
    }
   ],
   "source": [
    "x_train, x_test, y_train, y_test = load_dataset('dataset.csv')\n",
    "model.fit(x_train, y_train)\n",
    "list(model.parameters())"
   ],
   "metadata": {
    "collapsed": false
   }
  },
  {
   "cell_type": "code",
   "execution_count": 4,
   "outputs": [
    {
     "data": {
      "text/plain": "[tensor([0.]),\n tensor([2.]),\n tensor([0.]),\n tensor([0.]),\n tensor([0.]),\n tensor([1.]),\n tensor([2.]),\n tensor([2.]),\n tensor([2.]),\n tensor([1.]),\n tensor([1.]),\n tensor([0.]),\n tensor([1.]),\n tensor([2.]),\n tensor([2.]),\n tensor([0.]),\n tensor([1.]),\n tensor([1.]),\n tensor([1.]),\n tensor([0.]),\n tensor([2.]),\n tensor([0.]),\n tensor([2.]),\n tensor([0.]),\n tensor([2.]),\n tensor([0.]),\n tensor([2.]),\n tensor([1.]),\n tensor([0.]),\n tensor([1.]),\n tensor([2.]),\n tensor([0.]),\n tensor([1.]),\n tensor([1.]),\n tensor([0.]),\n tensor([1.]),\n tensor([2.]),\n tensor([1.])]"
     },
     "execution_count": 4,
     "metadata": {},
     "output_type": "execute_result"
    }
   ],
   "source": [
    "y_test"
   ],
   "metadata": {
    "collapsed": false
   }
  },
  {
   "cell_type": "code",
   "execution_count": 5,
   "outputs": [
    {
     "name": "stdout",
     "output_type": "stream",
     "text": [
      "Accuracy of the network on the 38 test images: 34.21052631578947 %\n"
     ]
    }
   ],
   "source": [
    "model.test_accuracy(x_test, y_test)"
   ],
   "metadata": {
    "collapsed": false
   }
  },
  {
   "cell_type": "code",
   "execution_count": 111,
   "outputs": [],
   "source": [],
   "metadata": {
    "collapsed": false
   }
  }
 ],
 "metadata": {
  "kernelspec": {
   "display_name": "Python 3",
   "language": "python",
   "name": "python3"
  },
  "language_info": {
   "codemirror_mode": {
    "name": "ipython",
    "version": 2
   },
   "file_extension": ".py",
   "mimetype": "text/x-python",
   "name": "python",
   "nbconvert_exporter": "python",
   "pygments_lexer": "ipython2",
   "version": "2.7.6"
  }
 },
 "nbformat": 4,
 "nbformat_minor": 0
}
