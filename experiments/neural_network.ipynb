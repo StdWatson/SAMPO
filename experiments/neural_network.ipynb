{
 "cells": [
  {
   "cell_type": "code",
   "execution_count": 89,
   "metadata": {
    "collapsed": true
   },
   "outputs": [],
   "source": [
    "import torch\n",
    "\n",
    "from torch import nn\n",
    "from torch.autograd import Variable"
   ]
  },
  {
   "cell_type": "code",
   "execution_count": 90,
   "outputs": [],
   "source": [
    "input_parameters = 5\n",
    "layer_size = 5\n",
    "layer_count = 3\n",
    "classification_size = 1\n",
    "learning_rate = 0.001"
   ],
   "metadata": {
    "collapsed": false
   }
  },
  {
   "cell_type": "code",
   "execution_count": 91,
   "outputs": [],
   "source": [
    "graph_stat = Variable(torch.ones(input_parameters, layer_size))"
   ],
   "metadata": {
    "collapsed": false
   }
  },
  {
   "cell_type": "code",
   "execution_count": 92,
   "outputs": [],
   "source": [
    "class NeuralNet(nn.Module):\n",
    "    def __init__(self):\n",
    "        super(NeuralNet, self).__init__()\n",
    "        self.linear0 = torch.nn.Linear(layer_size, layer_size)\n",
    "        self.linear1 = torch.nn.Linear(layer_size, layer_size)\n",
    "        self.linear2 = torch.nn.Linear(layer_size, classification_size)\n",
    "\n",
    "    def forward(self, x):\n",
    "        x = self.linear0(x)\n",
    "        x = self.linear1(x)\n",
    "        x = self.linear2(x)\n",
    "        return x"
   ],
   "metadata": {
    "collapsed": false
   }
  },
  {
   "cell_type": "code",
   "execution_count": 93,
   "outputs": [
    {
     "data": {
      "text/plain": "tensor([[-0.0821],\n        [-0.0821],\n        [-0.0821],\n        [-0.0821],\n        [-0.0821]], grad_fn=<AddmmBackward0>)"
     },
     "execution_count": 93,
     "metadata": {},
     "output_type": "execute_result"
    }
   ],
   "source": [
    "model = NeuralNet()\n",
    "\n",
    "result = model(graph_stat)\n",
    "result"
   ],
   "metadata": {
    "collapsed": false
   }
  },
  {
   "cell_type": "code",
   "execution_count": 94,
   "outputs": [],
   "source": [
    "criterion = torch.nn.CrossEntropyLoss()\n",
    "optimizer = torch.optim.Adam(model.parameters(), lr=learning_rate)"
   ],
   "metadata": {
    "collapsed": false
   }
  },
  {
   "cell_type": "code",
   "execution_count": 114,
   "outputs": [],
   "source": [
    "samples = 1000\n",
    "\n",
    "def f(i, j) -> list[float]:\n",
    "    return i * 10 + j * j\n",
    "\n",
    "dataset = [torch.Tensor([f(i, j) for j in range(input_parameters)]) + torch.randn(input_parameters) for i in range(samples)]\n",
    "dataset_labels = [torch.Tensor([i % 3]) for i in range(samples)]"
   ],
   "metadata": {
    "collapsed": false
   }
  },
  {
   "cell_type": "code",
   "execution_count": 115,
   "outputs": [],
   "source": [
    "bound = int(samples * 0.8)\n",
    "train = list(zip(dataset[:bound], dataset_labels[:bound]))\n",
    "test = list(zip(dataset[bound:], dataset_labels[bound:]))"
   ],
   "metadata": {
    "collapsed": false
   }
  },
  {
   "cell_type": "code",
   "execution_count": 117,
   "outputs": [
    {
     "name": "stdout",
     "output_type": "stream",
     "text": [
      "Epoch [1/10], Step [100/800], Loss: -0.0000\n",
      "Epoch [1/10], Step [200/800], Loss: -0.0000\n",
      "Epoch [1/10], Step [300/800], Loss: -0.0000\n",
      "Epoch [1/10], Step [400/800], Loss: -0.0000\n",
      "Epoch [1/10], Step [500/800], Loss: -0.0000\n",
      "Epoch [1/10], Step [600/800], Loss: -0.0000\n",
      "Epoch [1/10], Step [700/800], Loss: -0.0000\n",
      "Epoch [1/10], Step [800/800], Loss: -0.0000\n",
      "Epoch [2/10], Step [100/800], Loss: -0.0000\n",
      "Epoch [2/10], Step [200/800], Loss: -0.0000\n",
      "Epoch [2/10], Step [300/800], Loss: -0.0000\n",
      "Epoch [2/10], Step [400/800], Loss: -0.0000\n",
      "Epoch [2/10], Step [500/800], Loss: -0.0000\n",
      "Epoch [2/10], Step [600/800], Loss: -0.0000\n",
      "Epoch [2/10], Step [700/800], Loss: -0.0000\n",
      "Epoch [2/10], Step [800/800], Loss: -0.0000\n",
      "Epoch [3/10], Step [100/800], Loss: -0.0000\n",
      "Epoch [3/10], Step [200/800], Loss: -0.0000\n",
      "Epoch [3/10], Step [300/800], Loss: -0.0000\n",
      "Epoch [3/10], Step [400/800], Loss: -0.0000\n",
      "Epoch [3/10], Step [500/800], Loss: -0.0000\n",
      "Epoch [3/10], Step [600/800], Loss: -0.0000\n",
      "Epoch [3/10], Step [700/800], Loss: -0.0000\n",
      "Epoch [3/10], Step [800/800], Loss: -0.0000\n",
      "Epoch [4/10], Step [100/800], Loss: -0.0000\n",
      "Epoch [4/10], Step [200/800], Loss: -0.0000\n",
      "Epoch [4/10], Step [300/800], Loss: -0.0000\n",
      "Epoch [4/10], Step [400/800], Loss: -0.0000\n",
      "Epoch [4/10], Step [500/800], Loss: -0.0000\n",
      "Epoch [4/10], Step [600/800], Loss: -0.0000\n",
      "Epoch [4/10], Step [700/800], Loss: -0.0000\n",
      "Epoch [4/10], Step [800/800], Loss: -0.0000\n",
      "Epoch [5/10], Step [100/800], Loss: -0.0000\n",
      "Epoch [5/10], Step [200/800], Loss: -0.0000\n",
      "Epoch [5/10], Step [300/800], Loss: -0.0000\n",
      "Epoch [5/10], Step [400/800], Loss: -0.0000\n",
      "Epoch [5/10], Step [500/800], Loss: -0.0000\n",
      "Epoch [5/10], Step [600/800], Loss: -0.0000\n",
      "Epoch [5/10], Step [700/800], Loss: -0.0000\n",
      "Epoch [5/10], Step [800/800], Loss: -0.0000\n",
      "Epoch [6/10], Step [100/800], Loss: -0.0000\n",
      "Epoch [6/10], Step [200/800], Loss: -0.0000\n",
      "Epoch [6/10], Step [300/800], Loss: -0.0000\n",
      "Epoch [6/10], Step [400/800], Loss: -0.0000\n",
      "Epoch [6/10], Step [500/800], Loss: -0.0000\n",
      "Epoch [6/10], Step [600/800], Loss: -0.0000\n",
      "Epoch [6/10], Step [700/800], Loss: -0.0000\n",
      "Epoch [6/10], Step [800/800], Loss: -0.0000\n",
      "Epoch [7/10], Step [100/800], Loss: -0.0000\n",
      "Epoch [7/10], Step [200/800], Loss: -0.0000\n",
      "Epoch [7/10], Step [300/800], Loss: -0.0000\n",
      "Epoch [7/10], Step [400/800], Loss: -0.0000\n",
      "Epoch [7/10], Step [500/800], Loss: -0.0000\n",
      "Epoch [7/10], Step [600/800], Loss: -0.0000\n",
      "Epoch [7/10], Step [700/800], Loss: -0.0000\n",
      "Epoch [7/10], Step [800/800], Loss: -0.0000\n",
      "Epoch [8/10], Step [100/800], Loss: -0.0000\n",
      "Epoch [8/10], Step [200/800], Loss: -0.0000\n",
      "Epoch [8/10], Step [300/800], Loss: -0.0000\n",
      "Epoch [8/10], Step [400/800], Loss: -0.0000\n",
      "Epoch [8/10], Step [500/800], Loss: -0.0000\n",
      "Epoch [8/10], Step [600/800], Loss: -0.0000\n",
      "Epoch [8/10], Step [700/800], Loss: -0.0000\n",
      "Epoch [8/10], Step [800/800], Loss: -0.0000\n",
      "Epoch [9/10], Step [100/800], Loss: -0.0000\n",
      "Epoch [9/10], Step [200/800], Loss: -0.0000\n",
      "Epoch [9/10], Step [300/800], Loss: -0.0000\n",
      "Epoch [9/10], Step [400/800], Loss: -0.0000\n",
      "Epoch [9/10], Step [500/800], Loss: -0.0000\n",
      "Epoch [9/10], Step [600/800], Loss: -0.0000\n",
      "Epoch [9/10], Step [700/800], Loss: -0.0000\n",
      "Epoch [9/10], Step [800/800], Loss: -0.0000\n",
      "Epoch [10/10], Step [100/800], Loss: -0.0000\n",
      "Epoch [10/10], Step [200/800], Loss: -0.0000\n",
      "Epoch [10/10], Step [300/800], Loss: -0.0000\n",
      "Epoch [10/10], Step [400/800], Loss: -0.0000\n",
      "Epoch [10/10], Step [500/800], Loss: -0.0000\n",
      "Epoch [10/10], Step [600/800], Loss: -0.0000\n",
      "Epoch [10/10], Step [700/800], Loss: -0.0000\n",
      "Epoch [10/10], Step [800/800], Loss: -0.0000\n"
     ]
    }
   ],
   "source": [
    "num_epochs = 10\n",
    "device = torch.device('cuda' if torch.cuda.is_available() else 'cpu')\n",
    "\n",
    "# Train the model\n",
    "total_step = len(train)\n",
    "for epoch in range(num_epochs):\n",
    "    for i, (image, label) in enumerate(train):\n",
    "        # Move tensors to the configured device\n",
    "        image = image.to(device)\n",
    "        label = label.to(device)\n",
    "\n",
    "        # Forward pass\n",
    "        outputs = model(image)\n",
    "        loss = criterion(outputs, label)\n",
    "\n",
    "        # Backpropagation and optimization\n",
    "        optimizer.zero_grad()\n",
    "        loss.backward()\n",
    "        optimizer.step()\n",
    "\n",
    "        if (i + 1) % 100 == 0:\n",
    "            print ('Epoch [{}/{}], Step [{}/{}], Loss: {:.4f}'\n",
    "                   .format(epoch + 1, num_epochs, i + 1, total_step, loss.item()))"
   ],
   "metadata": {
    "collapsed": false
   }
  },
  {
   "cell_type": "code",
   "execution_count": 118,
   "outputs": [
    {
     "name": "stdout",
     "output_type": "stream",
     "text": [
      "Accuracy of the network on the 200 test images: 33.5 %\n"
     ]
    }
   ],
   "source": [
    "# Test the model\n",
    "# In the test phase, don't need to compute gradients (for memory efficiency)\n",
    "with torch.no_grad():\n",
    "    correct = 0\n",
    "    total = 0\n",
    "    for image, label in test:\n",
    "        image = image.to(device)\n",
    "        label = label.to(device)\n",
    "        outputs = model(image)\n",
    "        _, predicted = torch.max(outputs.data, 0)\n",
    "        total += label.size(0)\n",
    "        correct += (predicted == label).item()\n",
    "\n",
    "    print(f'Accuracy of the network on the {len(test)} test images: {100 * correct / total} %')"
   ],
   "metadata": {
    "collapsed": false
   }
  },
  {
   "cell_type": "code",
   "execution_count": 111,
   "outputs": [],
   "source": [],
   "metadata": {
    "collapsed": false
   }
  }
 ],
 "metadata": {
  "kernelspec": {
   "display_name": "Python 3",
   "language": "python",
   "name": "python3"
  },
  "language_info": {
   "codemirror_mode": {
    "name": "ipython",
    "version": 2
   },
   "file_extension": ".py",
   "mimetype": "text/x-python",
   "name": "python",
   "nbconvert_exporter": "python",
   "pygments_lexer": "ipython2",
   "version": "2.7.6"
  }
 },
 "nbformat": 4,
 "nbformat_minor": 0
}
