{
 "cells": [
  {
   "cell_type": "code",
   "execution_count": 5,
   "metadata": {
    "collapsed": true
   },
   "outputs": [],
   "source": [
    "from sampo.generator.base import SimpleSynthetic\n",
    "from sampo.generator.types import SyntheticGraphType"
   ]
  },
  {
   "cell_type": "markdown",
   "source": [
    "# 1. Graph generation"
   ],
   "metadata": {
    "collapsed": false
   }
  },
  {
   "cell_type": "code",
   "execution_count": 6,
   "outputs": [],
   "source": [
    "# SimpleSynthetic object used for the simple work graph structure generation\n",
    "\n",
    "r_seed = 231\n",
    "ss = SimpleSynthetic(r_seed)"
   ],
   "metadata": {
    "collapsed": false
   }
  },
  {
   "cell_type": "code",
   "execution_count": 7,
   "outputs": [],
   "source": [
    "# simple graph\n",
    "# should generate general (average) type of graph with 10 clusters from 100 to 200 vertices each\n",
    "\n",
    "simple_wg = ss.work_graph(mode=SyntheticGraphType.GENERAL,\n",
    "                          cluster_counts=10,\n",
    "                          bottom_border=100,\n",
    "                          top_border=200)"
   ],
   "metadata": {
    "collapsed": false
   }
  },
  {
   "cell_type": "code",
   "execution_count": 8,
   "outputs": [],
   "source": [
    "# complex graph\n",
    "# should generate general (average) type of graph with 300 unique works, 100 resources and 2000 vertices\n",
    "\n",
    "advanced_wg = ss.advanced_work_graph(works_count_top_border=2000,\n",
    "                                     uniq_works=300,\n",
    "                                     uniq_resources=100)"
   ],
   "metadata": {
    "collapsed": false
   }
  },
  {
   "cell_type": "markdown",
   "source": [
    "# 2. Contractor generation"
   ],
   "metadata": {
    "collapsed": false
   }
  },
  {
   "cell_type": "code",
   "execution_count": 9,
   "outputs": [],
   "source": [
    "from uuid import uuid4\n",
    "from sampo.schemas.resources import Worker\n",
    "from sampo.schemas.contractor import Contractor"
   ],
   "metadata": {
    "collapsed": false
   }
  },
  {
   "cell_type": "markdown",
   "source": [
    "### Manual generation\n",
    "To create contractor, you should provide minimal info: unique id, contractor name, and supplied workers (simple renewable resources)."
   ],
   "metadata": {
    "collapsed": false
   }
  },
  {
   "cell_type": "code",
   "execution_count": 10,
   "outputs": [],
   "source": [
    "contractors = [\n",
    "    Contractor(id=str(uuid4()),\n",
    "               name=\"OOO Berezka\",\n",
    "               workers={'worker' : Worker(id='0', name='worker', count=100)})\n",
    "]"
   ],
   "metadata": {
    "collapsed": false
   }
  },
  {
   "cell_type": "markdown",
   "source": [
    "### Generation from graph"
   ],
   "metadata": {
    "collapsed": false
   }
  },
  {
   "cell_type": "code",
   "execution_count": 11,
   "outputs": [],
   "source": [
    "from sampo.generator.environment.contractor_by_wg import get_contractor_by_wg\n",
    "\n",
    "contractors = [get_contractor_by_wg(simple_wg)]"
   ],
   "metadata": {
    "collapsed": false
   }
  },
  {
   "cell_type": "markdown",
   "source": [
    "# 3. Scheduling"
   ],
   "metadata": {
    "collapsed": false
   }
  },
  {
   "cell_type": "markdown",
   "source": [
    "### Scheduler construction\n",
    "Before scheduling you should specify scheduling algorithm used for transforming input data to the final schedule.\n",
    "At this time SAMPO contains heuristic algorithms, such as HEFTAddEnd, HEFTAddBetween and Topological scheduler, and the Genetic algorithm.\n",
    "While creation, you can specify the hyperparameters to fit the algorithm."
   ],
   "metadata": {
    "collapsed": false
   }
  },
  {
   "cell_type": "code",
   "execution_count": 12,
   "outputs": [],
   "source": [
    "from sampo.scheduler.heft.base import HEFTScheduler\n",
    "\n",
    "# here we can just create simple heuristic scheduler\n",
    "scheduler = HEFTScheduler()"
   ],
   "metadata": {
    "collapsed": false
   }
  },
  {
   "cell_type": "code",
   "execution_count": 13,
   "outputs": [
    {
     "name": "stdout",
     "output_type": "stream",
     "text": [
      "Can not find native module; switching to default\n"
     ]
    }
   ],
   "source": [
    "from sampo.scheduler.genetic.base import GeneticScheduler\n",
    "\n",
    "# or more complex genetic scheduler\n",
    "scheduler = GeneticScheduler(mutate_order=0.1,\n",
    "                             mutate_resources=0.3)"
   ],
   "metadata": {
    "collapsed": false
   }
  },
  {
   "cell_type": "markdown",
   "source": [
    "### Scheduling process\n",
    "SAMPO provides a simple interface to all its features.\n",
    "It called SchedulingPipeline.\n",
    "Using it you only should pass all the scheduling arguments, it remembers them, and you can produce schedules in many ways."
   ],
   "metadata": {
    "collapsed": false
   }
  },
  {
   "cell_type": "code",
   "execution_count": 14,
   "outputs": [
    {
     "name": "stdout",
     "output_type": "stream",
     "text": [
      "Genetic optimizing took 33.90812873840332 ms\n",
      "Toolbox initialization & first population took 308.14647674560547 ms\n",
      "First population evaluation took 522.6023197174072 ms\n",
      "-- Generation 0, population=20, best time=995.0 --\n",
      "-- Generation 1, population=22, best time=995.0 --\n",
      "-- Generation 2, population=34, best time=989.0 --\n",
      "-- Generation 3, population=37, best time=989.0 --\n",
      "-- Generation 4, population=29, best time=989.0 --\n",
      "-- Generation 5, population=39, best time=989.0 --\n",
      "-- Generation 6, population=63, best time=989.0 --\n",
      "-- Generation 7, population=34, best time=989.0 --\n",
      "-- Generation 8, population=49, best time=989.0 --\n",
      "-- Generation 9, population=45, best time=989.0 --\n",
      "-- Generation 10, population=101, best time=983.0 --\n",
      "-- Generation 11, population=46, best time=983.0 --\n",
      "-- Generation 12, population=34, best time=983.0 --\n",
      "-- Generation 13, population=49, best time=983.0 --\n",
      "-- Generation 14, population=49, best time=983.0 --\n",
      "-- Generation 15, population=95, best time=982.0 --\n",
      "-- Generation 16, population=32, best time=982.0 --\n",
      "-- Generation 17, population=34, best time=982.0 --\n",
      "-- Generation 18, population=37, best time=980.0 --\n",
      "-- Generation 19, population=56, best time=980.0 --\n",
      "-- Generation 20, population=25, best time=980.0 --\n",
      "-- Generation 21, population=26, best time=980.0 --\n",
      "-- Generation 22, population=31, best time=980.0 --\n",
      "-- Generation 23, population=38, best time=980.0 --\n",
      "-- Generation 24, population=41, best time=977.0 --\n",
      "-- Generation 25, population=75, best time=977.0 --\n",
      "-- Generation 26, population=80, best time=976.0 --\n",
      "-- Generation 27, population=52, best time=976.0 --\n",
      "-- Generation 28, population=45, best time=976.0 --\n",
      "-- Generation 29, population=97, best time=972.0 --\n",
      "-- Generation 30, population=100, best time=972.0 --\n",
      "-- Generation 31, population=47, best time=972.0 --\n",
      "-- Generation 32, population=45, best time=972.0 --\n",
      "-- Generation 33, population=72, best time=969.0 --\n",
      "-- Generation 34, population=55, best time=969.0 --\n",
      "-- Generation 35, population=79, best time=969.0 --\n",
      "-- Generation 36, population=81, best time=969.0 --\n",
      "-- Generation 37, population=144, best time=969.0 --\n",
      "-- Generation 38, population=38, best time=969.0 --\n",
      "-- Generation 39, population=118, best time=969.0 --\n",
      "-- Generation 40, population=40, best time=969.0 --\n",
      "-- Generation 41, population=112, best time=969.0 --\n",
      "-- Generation 42, population=48, best time=969.0 --\n",
      "-- Generation 43, population=108, best time=969.0 --\n",
      "-- Generation 44, population=120, best time=969.0 --\n",
      "-- Generation 45, population=97, best time=969.0 --\n",
      "-- Generation 46, population=72, best time=969.0 --\n",
      "-- Generation 47, population=53, best time=969.0 --\n",
      "-- Generation 48, population=112, best time=968.0 --\n",
      "-- Generation 49, population=46, best time=968.0 --\n",
      "Final time: 968.0\n",
      "Generations processing took 57636.97600364685 ms\n",
      "Evaluation time: 53731.34756088257\n"
     ]
    },
    {
     "data": {
      "text/plain": "968"
     },
     "execution_count": 14,
     "metadata": {},
     "output_type": "execute_result"
    }
   ],
   "source": [
    "from sampo.pipeline import SchedulingPipeline\n",
    "\n",
    "schedule = SchedulingPipeline.create() \\\n",
    "    .wg(simple_wg) \\\n",
    "    .contractors(contractors) \\\n",
    "    .schedule(scheduler) \\\n",
    "    .finish()\n",
    "\n",
    "schedule.execution_time"
   ],
   "metadata": {
    "collapsed": false
   }
  },
  {
   "cell_type": "markdown",
   "source": [
    "### Other metrics\n",
    "Genetic scheduler can do more than just optimize MakeSpan. It supports more metrics.\n",
    "Metrics are represented by `FitnessFunction` class and can be passed to `GeneticScheduler` on constructing.\n",
    "\n",
    "Here we're constructing Genetic that should optimize resources to deadline."
   ],
   "metadata": {
    "collapsed": false
   }
  },
  {
   "cell_type": "code",
   "execution_count": 15,
   "outputs": [
    {
     "name": "stdout",
     "output_type": "stream",
     "text": [
      "Can keep deadline at minimum resources\n",
      "Genetic optimizing took 32.93895721435547 ms\n",
      "Toolbox initialization & first population took 159.57283973693848 ms\n",
      "First population evaluation took 573.4663009643555 ms\n",
      "-- Generation 0, population=20, best time=313.0 --\n",
      "-- Generation 1, population=57, best time=298.0 --\n",
      "-- Generation 2, population=56, best time=298.0 --\n",
      "-- Generation 3, population=82, best time=273.0 --\n",
      "-- Generation 4, population=100, best time=264.0 --\n",
      "-- Generation 5, population=48, best time=243.0 --\n",
      "-- Generation 6, population=54, best time=243.0 --\n",
      "-- Generation 7, population=22, best time=243.0 --\n",
      "-- Generation 8, population=20, best time=243.0 --\n",
      "-- Generation 9, population=20, best time=243.0 --\n",
      "-- Generation 10, population=20, best time=243.0 --\n",
      "-- Generation 11, population=20, best time=243.0 --\n",
      "-- Generation 12, population=20, best time=243.0 --\n",
      "-- Generation 13, population=20, best time=243.0 --\n",
      "-- Generation 14, population=20, best time=243.0 --\n",
      "-- Generation 15, population=20, best time=243.0 --\n",
      "-- Generation 16, population=20, best time=243.0 --\n",
      "-- Generation 17, population=20, best time=243.0 --\n",
      "-- Generation 18, population=20, best time=243.0 --\n",
      "-- Generation 19, population=20, best time=243.0 --\n",
      "-- Generation 20, population=20, best time=243.0 --\n",
      "-- Generation 21, population=20, best time=243.0 --\n",
      "-- Generation 22, population=20, best time=243.0 --\n",
      "-- Generation 23, population=20, best time=243.0 --\n",
      "-- Generation 24, population=20, best time=243.0 --\n",
      "-- Generation 25, population=20, best time=243.0 --\n",
      "-- Generation 26, population=20, best time=243.0 --\n",
      "-- Generation 27, population=20, best time=243.0 --\n",
      "-- Generation 28, population=20, best time=243.0 --\n",
      "-- Generation 29, population=20, best time=243.0 --\n",
      "-- Generation 30, population=20, best time=243.0 --\n",
      "-- Generation 31, population=20, best time=243.0 --\n",
      "-- Generation 32, population=20, best time=243.0 --\n",
      "-- Generation 33, population=20, best time=243.0 --\n",
      "-- Generation 34, population=20, best time=243.0 --\n",
      "-- Generation 35, population=20, best time=243.0 --\n",
      "-- Generation 36, population=20, best time=243.0 --\n",
      "-- Generation 37, population=20, best time=243.0 --\n",
      "-- Generation 38, population=20, best time=243.0 --\n",
      "-- Generation 39, population=20, best time=243.0 --\n",
      "-- Generation 40, population=20, best time=243.0 --\n",
      "-- Generation 41, population=20, best time=243.0 --\n",
      "-- Generation 42, population=20, best time=243.0 --\n",
      "-- Generation 43, population=20, best time=243.0 --\n",
      "-- Generation 44, population=20, best time=243.0 --\n",
      "-- Generation 45, population=20, best time=243.0 --\n",
      "-- Generation 46, population=20, best time=243.0 --\n",
      "-- Generation 47, population=20, best time=243.0 --\n",
      "-- Generation 48, population=20, best time=243.0 --\n",
      "-- Generation 49, population=20, best time=243.0 --\n",
      "Final time: 243.0\n",
      "Generations processing took 13938.697099685669 ms\n",
      "Evaluation time: 9931.756019592285\n"
     ]
    },
    {
     "data": {
      "text/plain": "1891"
     },
     "execution_count": 15,
     "metadata": {},
     "output_type": "execute_result"
    }
   ],
   "source": [
    "from sampo.schemas.time import Time\n",
    "from sampo.scheduler.genetic.operators import DeadlineResourcesFitness\n",
    "\n",
    "deadline = Time(2000)\n",
    "# calling `prepare` method to pass explicit parameters to fitness function\n",
    "fitness_constructor = DeadlineResourcesFitness.prepare(deadline)\n",
    "\n",
    "scheduler = GeneticScheduler(mutate_order=0.1,\n",
    "                             mutate_resources=0.3,\n",
    "                             fitness_constructor=fitness_constructor)\n",
    "scheduler.set_deadline(deadline)\n",
    "\n",
    "schedule = SchedulingPipeline.create() \\\n",
    "    .wg(simple_wg) \\\n",
    "    .contractors(contractors) \\\n",
    "    .schedule(scheduler) \\\n",
    "    .finish()\n",
    "\n",
    "schedule.execution_time"
   ],
   "metadata": {
    "collapsed": false
   }
  },
  {
   "cell_type": "markdown",
   "source": [
    "Additionally, you can construct other metrics: deadline cost, time with resources (without deadline) fitness:"
   ],
   "metadata": {
    "collapsed": false
   }
  },
  {
   "cell_type": "code",
   "execution_count": 16,
   "outputs": [
    {
     "name": "stdout",
     "output_type": "stream",
     "text": [
      "Can keep deadline at minimum resources\n",
      "Genetic optimizing took 37.89687156677246 ms\n",
      "Toolbox initialization & first population took 248.33416938781738 ms\n",
      "First population evaluation took 672.2033023834229 ms\n",
      "-- Generation 0, population=20, best time=1312150.0 --\n",
      "-- Generation 1, population=20, best time=1312150.0 --\n",
      "-- Generation 2, population=20, best time=1312150.0 --\n",
      "-- Generation 3, population=20, best time=1312150.0 --\n",
      "-- Generation 4, population=20, best time=1312150.0 --\n",
      "-- Generation 5, population=20, best time=1312150.0 --\n",
      "-- Generation 6, population=20, best time=1312150.0 --\n",
      "-- Generation 7, population=20, best time=1312150.0 --\n",
      "-- Generation 8, population=20, best time=1312150.0 --\n",
      "-- Generation 9, population=20, best time=1312150.0 --\n",
      "-- Generation 10, population=20, best time=1312150.0 --\n",
      "-- Generation 11, population=20, best time=1312150.0 --\n",
      "-- Generation 12, population=20, best time=1312150.0 --\n",
      "-- Generation 13, population=20, best time=1312150.0 --\n",
      "-- Generation 14, population=20, best time=1312150.0 --\n",
      "-- Generation 15, population=20, best time=1312150.0 --\n",
      "-- Generation 16, population=20, best time=1312150.0 --\n",
      "-- Generation 17, population=20, best time=1312150.0 --\n",
      "-- Generation 18, population=20, best time=1312150.0 --\n",
      "-- Generation 19, population=20, best time=1312150.0 --\n",
      "-- Generation 20, population=20, best time=1312150.0 --\n",
      "-- Generation 21, population=20, best time=1312150.0 --\n",
      "-- Generation 22, population=20, best time=1312150.0 --\n",
      "-- Generation 23, population=20, best time=1312150.0 --\n",
      "-- Generation 24, population=20, best time=1312150.0 --\n",
      "-- Generation 25, population=20, best time=1312150.0 --\n",
      "-- Generation 26, population=20, best time=1312150.0 --\n",
      "-- Generation 27, population=20, best time=1312150.0 --\n",
      "-- Generation 28, population=20, best time=1312150.0 --\n",
      "-- Generation 29, population=20, best time=1312150.0 --\n",
      "-- Generation 30, population=20, best time=1312150.0 --\n",
      "-- Generation 31, population=20, best time=1312150.0 --\n",
      "-- Generation 32, population=20, best time=1312150.0 --\n",
      "-- Generation 33, population=20, best time=1312150.0 --\n",
      "-- Generation 34, population=20, best time=1312150.0 --\n",
      "-- Generation 35, population=20, best time=1312150.0 --\n",
      "-- Generation 36, population=20, best time=1312150.0 --\n",
      "-- Generation 37, population=20, best time=1312150.0 --\n",
      "-- Generation 38, population=20, best time=1312150.0 --\n",
      "-- Generation 39, population=20, best time=1312150.0 --\n",
      "-- Generation 40, population=20, best time=1312150.0 --\n",
      "-- Generation 41, population=20, best time=1312150.0 --\n",
      "-- Generation 42, population=20, best time=1312150.0 --\n",
      "-- Generation 43, population=20, best time=1312150.0 --\n",
      "-- Generation 44, population=20, best time=1312150.0 --\n",
      "-- Generation 45, population=20, best time=1312150.0 --\n",
      "-- Generation 46, population=20, best time=1312150.0 --\n",
      "-- Generation 47, population=20, best time=1312150.0 --\n",
      "-- Generation 48, population=20, best time=1312150.0 --\n",
      "-- Generation 49, population=20, best time=1312150.0 --\n",
      "Final time: 1312150.0\n",
      "Generations processing took 4840.416193008423 ms\n",
      "Evaluation time: 673.194408416748\n"
     ]
    },
    {
     "data": {
      "text/plain": "1891"
     },
     "execution_count": 16,
     "metadata": {},
     "output_type": "execute_result"
    }
   ],
   "source": [
    "from sampo.scheduler.genetic.operators import DeadlineCostFitness\n",
    "\n",
    "fitness_constructor = DeadlineCostFitness.prepare(deadline)\n",
    "\n",
    "scheduler = GeneticScheduler(mutate_order=0.1,\n",
    "                             mutate_resources=0.3,\n",
    "                             fitness_constructor=fitness_constructor)\n",
    "scheduler.set_deadline(deadline)\n",
    "\n",
    "schedule = SchedulingPipeline.create() \\\n",
    "    .wg(simple_wg) \\\n",
    "    .contractors(contractors) \\\n",
    "    .schedule(scheduler) \\\n",
    "    .finish()\n",
    "\n",
    "schedule.execution_time"
   ],
   "metadata": {
    "collapsed": false
   }
  },
  {
   "cell_type": "code",
   "execution_count": 17,
   "outputs": [
    {
     "name": "stdout",
     "output_type": "stream",
     "text": [
      "Can keep deadline at minimum resources\n",
      "Genetic optimizing took 44.44313049316406 ms\n",
      "Toolbox initialization & first population took 316.01643562316895 ms\n",
      "First population evaluation took 551.9542694091797 ms\n",
      "-- Generation 0, population=20, best time=1337.0 --\n",
      "-- Generation 1, population=33, best time=1333.0 --\n",
      "-- Generation 2, population=27, best time=1333.0 --\n",
      "-- Generation 3, population=20, best time=1333.0 --\n",
      "-- Generation 4, population=20, best time=1333.0 --\n",
      "-- Generation 5, population=20, best time=1333.0 --\n",
      "-- Generation 6, population=20, best time=1333.0 --\n",
      "-- Generation 7, population=20, best time=1333.0 --\n",
      "-- Generation 8, population=20, best time=1333.0 --\n",
      "-- Generation 9, population=20, best time=1333.0 --\n",
      "-- Generation 10, population=20, best time=1333.0 --\n",
      "-- Generation 11, population=20, best time=1333.0 --\n",
      "-- Generation 12, population=20, best time=1333.0 --\n",
      "-- Generation 13, population=20, best time=1333.0 --\n",
      "-- Generation 14, population=20, best time=1333.0 --\n",
      "-- Generation 15, population=20, best time=1333.0 --\n",
      "-- Generation 16, population=20, best time=1333.0 --\n",
      "-- Generation 17, population=20, best time=1333.0 --\n",
      "-- Generation 18, population=20, best time=1333.0 --\n",
      "-- Generation 19, population=20, best time=1333.0 --\n",
      "-- Generation 20, population=20, best time=1333.0 --\n",
      "-- Generation 21, population=20, best time=1333.0 --\n",
      "-- Generation 22, population=20, best time=1333.0 --\n",
      "-- Generation 23, population=20, best time=1333.0 --\n",
      "-- Generation 24, population=20, best time=1333.0 --\n",
      "-- Generation 25, population=20, best time=1333.0 --\n",
      "-- Generation 26, population=20, best time=1333.0 --\n",
      "-- Generation 27, population=20, best time=1333.0 --\n",
      "-- Generation 28, population=20, best time=1333.0 --\n",
      "-- Generation 29, population=20, best time=1333.0 --\n",
      "-- Generation 30, population=20, best time=1333.0 --\n",
      "-- Generation 31, population=20, best time=1333.0 --\n",
      "-- Generation 32, population=20, best time=1333.0 --\n",
      "-- Generation 33, population=20, best time=1333.0 --\n",
      "-- Generation 34, population=20, best time=1333.0 --\n",
      "-- Generation 35, population=20, best time=1333.0 --\n",
      "-- Generation 36, population=20, best time=1333.0 --\n",
      "-- Generation 37, population=20, best time=1333.0 --\n",
      "-- Generation 38, population=20, best time=1333.0 --\n",
      "-- Generation 39, population=20, best time=1333.0 --\n",
      "-- Generation 40, population=20, best time=1333.0 --\n",
      "-- Generation 41, population=20, best time=1333.0 --\n",
      "-- Generation 42, population=20, best time=1333.0 --\n",
      "-- Generation 43, population=20, best time=1333.0 --\n",
      "-- Generation 44, population=20, best time=1333.0 --\n",
      "-- Generation 45, population=20, best time=1333.0 --\n",
      "-- Generation 46, population=20, best time=1333.0 --\n",
      "-- Generation 47, population=20, best time=1333.0 --\n",
      "-- Generation 48, population=20, best time=1333.0 --\n",
      "-- Generation 49, population=20, best time=1333.0 --\n",
      "Final time: 1333.0\n",
      "Generations processing took 5778.987169265747 ms\n",
      "Evaluation time: 1231.072187423706\n"
     ]
    },
    {
     "data": {
      "text/plain": "989"
     },
     "execution_count": 17,
     "metadata": {},
     "output_type": "execute_result"
    }
   ],
   "source": [
    "from sampo.scheduler.genetic.operators import TimeAndResourcesFitness\n",
    "\n",
    "fitness_constructor = TimeAndResourcesFitness\n",
    "\n",
    "scheduler = GeneticScheduler(mutate_order=0.1,\n",
    "                             mutate_resources=0.3,\n",
    "                             fitness_constructor=fitness_constructor)\n",
    "scheduler.set_deadline(deadline)\n",
    "\n",
    "schedule = SchedulingPipeline.create() \\\n",
    "    .wg(simple_wg) \\\n",
    "    .contractors(contractors) \\\n",
    "    .schedule(scheduler) \\\n",
    "    .finish()\n",
    "\n",
    "schedule.execution_time"
   ],
   "metadata": {
    "collapsed": false
   }
  },
  {
   "cell_type": "code",
   "execution_count": 17,
   "outputs": [],
   "source": [],
   "metadata": {
    "collapsed": false
   }
  }
 ],
 "metadata": {
  "kernelspec": {
   "display_name": "Python 3",
   "language": "python",
   "name": "python3"
  },
  "language_info": {
   "codemirror_mode": {
    "name": "ipython",
    "version": 2
   },
   "file_extension": ".py",
   "mimetype": "text/x-python",
   "name": "python",
   "nbconvert_exporter": "python",
   "pygments_lexer": "ipython2",
   "version": "2.7.6"
  }
 },
 "nbformat": 4,
 "nbformat_minor": 0
}
